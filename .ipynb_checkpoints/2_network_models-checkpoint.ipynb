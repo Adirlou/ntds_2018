{
 "cells": [
  {
   "cell_type": "markdown",
   "metadata": {},
   "source": [
    "# [NTDS'18] milestone 2: network models\n",
    "[ntds'18]: https://github.com/mdeff/ntds_2018\n",
    "\n",
    "[Hermina Petric Maretic](https://people.epfl.ch/hermina.petricmaretic), [EPFL LTS4](https://lts4.epfl.ch)"
   ]
  },
  {
   "cell_type": "markdown",
   "metadata": {},
   "source": [
    "## Students\n",
    "\n",
    "* Team: `12`\n",
    "* Students: `Arnaud Duvieusart, Franck Dessimoz, Omar Boujdaria and Adrien Vandebroucque`\n",
    "* Dataset: `Flight Routes`"
   ]
  },
  {
   "cell_type": "markdown",
   "metadata": {},
   "source": [
    "## Rules\n",
    "\n",
    "* Milestones have to be completed by teams. No collaboration between teams is allowed.\n",
    "* Textual answers shall be short. Typically one to two sentences.\n",
    "* Code has to be clean.\n",
    "* In the first part, you cannot import any other library than we imported. In the second part, you are allowed to import any library you want.\n",
    "* When submitting, the notebook is executed and the results are stored. I.e., if you open the notebook again it should show numerical results and plots. We won't be able to execute your notebooks.\n",
    "* The notebook is re-executed from a blank state before submission. That is to be sure it is reproducible. You can click \"Kernel\" then \"Restart & Run All\" in Jupyter."
   ]
  },
  {
   "cell_type": "markdown",
   "metadata": {},
   "source": [
    "## Objective\n",
    "\n",
    "The purpose of this milestone is to explore various random network models, analyse their properties and compare them to your network. In the first part of the milestone you will implement two random graph models and try to fit them to your network. In this part you are not allowed to use any additional package. In the second part of the milestone you will choose a third random graph model that you think shares some properties with your network. You will be allowed to use additional packages to construct this network, but you must explain your network choice. Finally, make your code as clean as possible, and keep your textual answers short."
   ]
  },
  {
   "cell_type": "markdown",
   "metadata": {},
   "source": [
    "## Part 0\n",
    "\n",
    "Import the adjacency matrix of your graph that you constructed in milestone 1, as well as the number of nodes and edges of your network."
   ]
  },
  {
   "cell_type": "code",
   "execution_count": 1,
   "metadata": {
    "collapsed": true
   },
   "outputs": [],
   "source": [
    "import numpy as np"
   ]
  },
  {
   "cell_type": "code",
<<<<<<< HEAD
   "execution_count": 2,
   "metadata": {},
=======
   "execution_count": 11,
   "metadata": {
    "collapsed": true
   },
>>>>>>> 97b0cb486080ed0a7494053f21c1128c83a51dad
   "outputs": [],
   "source": [
    "def nodes_edges(adjacency):\n",
    "    diag = adjacency.diagonal()\n",
    "    n_edges =  (np.sum(adjacency) + np.sum(diag))/2\n",
    "    \n",
    "    return len(adjacency), n_edges"
   ]
  },
  {
   "cell_type": "code",
   "execution_count": 3,
   "metadata": {},
   "outputs": [
    {
     "data": {
      "text/plain": [
       "(3330, 19080.0)"
      ]
     },
     "execution_count": 3,
     "metadata": {},
     "output_type": "execute_result"
    }
   ],
   "source": [
    "adjacency =  np.load('adj.npy')\n",
    "n_nodes, n_edges = nodes_edges(adjacency)\n",
    "n_nodes, n_edges"
   ]
  },
  {
   "cell_type": "markdown",
   "metadata": {},
   "source": [
    "***Note that our original graph is directed. For the purpose of this milestone, we used the undirected version of our graph that we created in Milestone 1.***"
   ]
  },
  {
   "cell_type": "markdown",
   "metadata": {},
   "source": [
    "## Part 1\n",
    "\n",
    "**For the computation of this part of the milestone you are only allowed to use the packages that have been imported in the cell below.**"
   ]
  },
  {
   "cell_type": "code",
<<<<<<< HEAD
   "execution_count": 4,
   "metadata": {},
=======
   "execution_count": 3,
   "metadata": {
    "collapsed": true
   },
>>>>>>> 97b0cb486080ed0a7494053f21c1128c83a51dad
   "outputs": [],
   "source": [
    "%matplotlib inline\n",
    "\n",
    "import random\n",
    "\n",
    "import pandas as pd\n",
    "import matplotlib.pyplot as plt\n",
    "import scipy"
   ]
  },
  {
   "cell_type": "markdown",
   "metadata": {},
   "source": [
    "### Question 1\n",
    "\n",
    "Create a function that constructs an Erdős–Rényi graph."
   ]
  },
  {
   "cell_type": "code",
<<<<<<< HEAD
   "execution_count": 5,
   "metadata": {},
=======
   "execution_count": 4,
   "metadata": {
    "collapsed": true
   },
>>>>>>> 97b0cb486080ed0a7494053f21c1128c83a51dad
   "outputs": [],
   "source": [
    "def erdos_renyi(n, p, seed=None):\n",
    "    \"\"\"Create an instance from the Erdos-Renyi graph model.\n",
    "    \n",
    "    Parameters\n",
    "    ----------\n",
    "    n: int\n",
    "        Size of the graph.\n",
    "    p: float\n",
    "        Edge probability. A number between 0 and 1.\n",
    "    seed: int (optional)\n",
    "        Seed for the random number generator. To get reproducible results.\n",
    "    \n",
    "    Returns\n",
    "    -------\n",
    "    adjacency\n",
    "        The adjacency matrix of a graph.\n",
    "    \"\"\"\n",
    "    \n",
    "    adjacency = np.zeros((n, n))\n",
    "    for node1 in range(n):\n",
    "        for node2 in range(node1, n):\n",
    "            prob = np.random.rand(1) > (1 - p)\n",
    "            if prob == 1:\n",
    "                adjacency[node1, node2] = 1\n",
    "                adjacency[node2, node1] = 1\n",
    "        \n",
    "    \n",
    "    return adjacency"
   ]
  },
  {
   "cell_type": "code",
   "execution_count": 6,
   "metadata": {},
   "outputs": [
    {
     "data": {
      "text/plain": [
       "Text(0.5,1.05,'Erdos-Renyi (5, 0.6)')"
      ]
     },
     "execution_count": 6,
     "metadata": {},
     "output_type": "execute_result"
    },
    {
     "data": {
      "image/png": "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\n",
      "text/plain": [
       "<Figure size 432x288 with 1 Axes>"
      ]
     },
     "metadata": {
      "needs_background": "light"
     },
     "output_type": "display_data"
    }
   ],
   "source": [
    "er = erdos_renyi(5, 0.6, 9765)\n",
    "plt.spy(er)\n",
    "plt.title('Erdos-Renyi (5, 0.6)')"
   ]
  },
  {
   "cell_type": "code",
   "execution_count": 7,
   "metadata": {},
   "outputs": [
    {
     "data": {
      "text/plain": [
       "Text(0.5,1.05,'Erdos-Renyi (10, 0.4)')"
      ]
     },
     "execution_count": 7,
     "metadata": {},
     "output_type": "execute_result"
    },
    {
     "data": {
      "image/png": "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\n",
      "text/plain": [
       "<Figure size 432x288 with 1 Axes>"
      ]
     },
     "metadata": {
      "needs_background": "light"
     },
     "output_type": "display_data"
    }
   ],
   "source": [
    "er = erdos_renyi(10, 0.4, 7648)\n",
    "plt.spy(er)\n",
    "plt.title('Erdos-Renyi (10, 0.4)')"
   ]
  },
  {
   "cell_type": "markdown",
   "metadata": {},
   "source": [
    "### Question 2\n",
    "\n",
    "Use the function to create a random Erdos-Renyi graph. Choose the parameters such that number of nodes is the same as in your graph, and the number of edges similar. You don't need to set the random seed. Comment on your choice of parameters."
   ]
  },
  {
   "cell_type": "code",
   "execution_count": 18,
   "metadata": {},
   "outputs": [
    {
     "data": {
      "text/plain": [
       "18886.0"
      ]
     },
     "execution_count": 18,
     "metadata": {},
     "output_type": "execute_result"
    }
   ],
   "source": [
    "er = erdos_renyi(n_nodes, 0.0034)\n",
    "er_nodes, er_edges = nodes_edges(er)\n",
    "er_edges"
   ]
  },
  {
   "cell_type": "markdown",
   "metadata": {},
   "source": [
    "***The number of nodes is obviously defined as the same number as in our graph.***\n",
    "***Now for the edges: In our graph, there are 3330 nodes, so the number of possible links is n_links = 3330 * (3330-1) / 2 (see first milestone). Since in our graph, there are 19080 edges, we need to choose the probability of link attachment of our Erdos-Renyi model to be n_edges/n_links = 0.0034 (i.e. the attachment probability if our graph was constructed in the Erdos-Renyi model).***\n",
    "***This way, in expectation, the number of edges in the Erdos-Renyi will also be 19080.***"
   ]
  },
  {
   "cell_type": "markdown",
   "metadata": {},
   "source": [
    "### Question 3\n",
    "\n",
    "Create a function that constructs a Barabási-Albert graph."
   ]
  },
  {
   "cell_type": "code",
   "execution_count": null,
   "metadata": {
    "collapsed": true
   },
   "outputs": [],
   "source": [
    "def barabasi_albert(n, m, seed=None):\n",
    "    \"\"\"Create an instance from the Barabasi-Albert graph model.\n",
    "    \n",
    "    Parameters\n",
    "    ----------\n",
    "    n: int\n",
    "        Size of the graph.\n",
    "    m: int\n",
    "        Number of edges to attach from a new node to existing nodes.\n",
    "    seed: int (optional)\n",
    "        Seed for the random number generator. To get reproducible results.\n",
    "    \n",
    "    Returns\n",
    "    -------\n",
    "    adjacency\n",
    "        The adjacency matrix of a graph.\n",
    "    \"\"\"\n",
    "    \n",
    "    # Your code here.\n",
    "    \n",
    "    return adjacency"
   ]
  },
  {
   "cell_type": "code",
   "execution_count": null,
   "metadata": {
    "collapsed": true
   },
   "outputs": [],
   "source": [
    "ba = barabasi_albert(5, 1, 9087)\n",
    "plt.spy(ba)\n",
    "plt.title('Barabasi-Albert (5, 1)')"
   ]
  },
  {
   "cell_type": "code",
   "execution_count": null,
   "metadata": {
    "collapsed": true
   },
   "outputs": [],
   "source": [
    "ba = barabasi_albert(10, 2, 8708)\n",
    "plt.spy(ba)\n",
    "plt.title('Barabasi-Albert (10, 2)')"
   ]
  },
  {
   "cell_type": "markdown",
   "metadata": {},
   "source": [
    "### Question 4\n",
    "\n",
    "Use the function to create a random Barabási-Albert graph. Choose the parameters such that number of nodes is the same as in your graph, and the number of edges similar. You don't need to set the random seed. Comment on your choice of parameters."
   ]
  },
  {
   "cell_type": "code",
   "execution_count": null,
   "metadata": {
    "collapsed": true
   },
   "outputs": [],
   "source": [
    "# Your code here."
   ]
  },
  {
   "cell_type": "markdown",
   "metadata": {},
   "source": [
    "**Your answer here**"
   ]
  },
  {
   "cell_type": "markdown",
   "metadata": {},
   "source": [
    "### Question 5\n",
    "\n",
    "Compare the number of edges in all three networks (your real network, the Erdős–Rényi network, and the Barabási-Albert netowk)."
   ]
  },
  {
   "cell_type": "code",
   "execution_count": null,
   "metadata": {
    "collapsed": true
   },
   "outputs": [],
   "source": [
    "# Your code here."
   ]
  },
  {
   "cell_type": "markdown",
   "metadata": {},
   "source": [
    "### Question 6\n",
    "\n",
    "Implement a function that computes the [Kullback–Leibler (KL) divergence](https://en.wikipedia.org/wiki/Kullback%E2%80%93Leibler_divergence) between two probability distributions.\n",
    "We'll use it to compare the degree distributions of networks."
   ]
  },
  {
   "cell_type": "code",
   "execution_count": 16,
   "metadata": {
    "collapsed": true
   },
   "outputs": [],
   "source": [
    "def kl_divergence(p, q):\n",
    "    \"\"\"Compute the KL divergence between probability distributions of degrees of two networks.\n",
    "    \n",
    "    Parameters\n",
    "    ----------\n",
    "    p: np.array\n",
    "        Probability distribution of degrees of the 1st graph.\n",
    "    q: np.array\n",
    "        Probability distribution of degrees of the 2nd graph.\n",
    "    \n",
    "    Returns\n",
    "    -------\n",
    "    kl\n",
    "        The KL divergence between the two distributions.\n",
    "    \"\"\"\n",
    "    assert(len(p) == len(q))\n",
    "    \n",
    "    kl = 0\n",
    "    for i in range(len(p)):\n",
    "        kl += p[i]*np.log(p[i]/q[i])\n",
    "    \n",
    "    return kl"
   ]
  },
  {
   "cell_type": "code",
   "execution_count": 17,
   "metadata": {},
   "outputs": [
    {
     "data": {
      "text/plain": [
       "0.091516221849435753"
      ]
     },
     "execution_count": 17,
     "metadata": {},
     "output_type": "execute_result"
    }
   ],
   "source": [
    "p_test = np.array([0.2, 0.2, 0.2, 0.4])\n",
    "q_test = np.array([0.3, 0.3, 0.1, 0.3])\n",
    "kl_divergence(p_test, q_test)"
   ]
  },
  {
   "cell_type": "markdown",
   "metadata": {},
   "source": [
    "### Question 7\n",
    "\n",
    "Compare the degree distribution of your network to each of the two synthetic ones, in terms of KL divergence. **Hint:** Make sure you normalise your degree distributions to make them valid probability distributions."
   ]
  },
  {
   "cell_type": "code",
   "execution_count": null,
   "metadata": {
    "collapsed": true
   },
   "outputs": [],
   "source": [
    "# Your code here."
   ]
  },
  {
   "cell_type": "markdown",
   "metadata": {},
   "source": [
    "### Question 8\n",
    "\n",
    "Plot the degree distribution historgrams for all three networks. Are they consistent with the KL divergence results? Explain."
   ]
  },
  {
   "cell_type": "code",
   "execution_count": null,
   "metadata": {
    "collapsed": true
   },
   "outputs": [],
   "source": [
    "# Your code here."
   ]
  },
  {
   "cell_type": "markdown",
   "metadata": {},
   "source": [
    "**Your answer here.**"
   ]
  },
  {
   "cell_type": "markdown",
   "metadata": {},
   "source": [
    "### Question 9\n",
    "\n",
    "Imagine you got equal degree distributions. Would that guarantee you got the same graph? Explain."
   ]
  },
  {
   "cell_type": "markdown",
   "metadata": {},
   "source": [
    "**Your answer here.**"
   ]
  },
  {
   "cell_type": "markdown",
   "metadata": {},
   "source": [
    "## Part 2\n",
    "\n",
    "**You are allowed to use any additional library here (e.g., NetworkX, PyGSP, etc.).** Be careful not to include something here and use it in part 1!"
   ]
  },
  {
   "cell_type": "markdown",
   "metadata": {},
   "source": [
    "### Question 10\n",
    "\n",
    "Choose a random network model that fits you network well. Explain your choice. \n",
    "\n",
    "**Hint:** Check lecture notes for different network models and their properties. Your choice should be made based on at least one property you'd expect to be similar."
   ]
  },
  {
   "cell_type": "markdown",
   "metadata": {},
   "source": [
    "**Your answer here.**"
   ]
  },
  {
   "cell_type": "markdown",
   "metadata": {},
   "source": [
    "### Question 11\n",
    "\n",
    "Explain (in short) how the chosen model works."
   ]
  },
  {
   "cell_type": "markdown",
   "metadata": {},
   "source": [
    "**Your answer here.**"
   ]
  },
  {
   "cell_type": "markdown",
   "metadata": {},
   "source": [
    "### Question 12\n",
    "\n",
    "Create a random graph from that model, such that the number of nodes is the same as in your graph."
   ]
  },
  {
   "cell_type": "code",
   "execution_count": null,
   "metadata": {
    "collapsed": true
   },
   "outputs": [],
   "source": [
    "# Your code here."
   ]
  },
  {
   "cell_type": "markdown",
   "metadata": {},
   "source": [
    "### Question 13\n",
    "\n",
    "Check the properties you expected to be similar, and compare to your network."
   ]
  },
  {
   "cell_type": "code",
   "execution_count": null,
   "metadata": {
    "collapsed": true
   },
   "outputs": [],
   "source": [
    "# Your code here."
   ]
  },
  {
   "cell_type": "markdown",
   "metadata": {},
   "source": [
    "Are the results what you expected? Explain."
   ]
  },
  {
   "cell_type": "markdown",
   "metadata": {},
   "source": [
    "**Your answer here.**"
   ]
  }
 ],
 "metadata": {
  "kernelspec": {
   "display_name": "Python 3",
   "language": "python",
   "name": "python3"
  },
  "language_info": {
   "codemirror_mode": {
    "name": "ipython",
    "version": 3
   },
   "file_extension": ".py",
   "mimetype": "text/x-python",
   "name": "python",
   "nbconvert_exporter": "python",
   "pygments_lexer": "ipython3",
   "version": "3.6.1"
  }
 },
 "nbformat": 4,
 "nbformat_minor": 2
}
