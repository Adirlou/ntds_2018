{
 "cells": [
  {
   "cell_type": "markdown",
   "metadata": {},
   "source": [
    "# [NTDS'18] milestone 4: graph signal processing\n",
    "[ntds'18]: https://github.com/mdeff/ntds_2018\n",
    "\n",
    "[Rodrigo Pena](https://people.epfl.ch/254838), [EPFL LTS2](http://lts2.epfl.ch)"
   ]
  },
  {
   "cell_type": "markdown",
   "metadata": {},
   "source": [
    "## Students\n",
    "\n",
    "* Team: `12`\n",
    "* Students: `Arnaud Duvieusart, Omar Boujdaria, Franck Dessimoz and Adrien Vandenbroucque`\n",
    "* Dataset: `Flight Routes`"
   ]
  },
  {
   "cell_type": "markdown",
   "metadata": {},
   "source": [
    "## Rules\n",
    "\n",
    "* Milestones have to be completed by teams. No collaboration between teams is allowed.\n",
    "* Textual answers shall be short. Typically one to two sentences.\n",
    "* Code has to be clean.\n",
    "* You cannot import any other library than we imported.\n",
    "* When submitting, the notebook is executed and the results are stored. I.e., if you open the notebook again it should show numerical results and plots. We won't be able to execute your notebooks.\n",
    "* The notebook is re-executed from a blank state before submission. That is to be sure it is reproducible. You can click \"Kernel\" then \"Restart & Run All\" in Jupyter."
   ]
  },
  {
   "cell_type": "markdown",
   "metadata": {},
   "source": [
    "## Objective\n",
    "\n",
    "The goal of this milestone is to do some Graph Signal Processing (GSP) on the data of your project.\n",
    "\n",
    "### A note about plotting\n",
    "\n",
    "There are several questions in this milestone that ask you to plot a signal on your network.\n",
    "There are several ways from which you could approach it.\n",
    "In all cases, compute the position of the nodes a single time at the beginning, as this is likely to be a costly operation.\n",
    "Using a single layout for all the graph plots will also make it easier to compare the plots.\n",
    "Indeed, the only thing changing between plots is the signal displayed.\n",
    "You can represent the features/labels lying on the graph via node **colors**.\n",
    "To do so, make sure to have a consistent color map throughout and remember to display a colorbar and scale in all plots, so that we can tell what numbers the colors represent.\n",
    "\n",
    "* An option is to use the **Laplacian eigenmaps** that you have seen in the previous milestone to embed your graph on the plane. For example:\n",
    "  ```\n",
    "  from matplotlib import pyplot as plt\n",
    "  plt.scatter(eigenvectors[:, 1], eigenvectors[:, 2], c=signal, alpha=0.5)\n",
    "  plt.colorbar()\n",
    "  ```\n",
    "* Another option is to use the plotting capabilities of **[NetworkX](https://networkx.github.io)**.\n",
    "  See the documentation of its [drawing methods](https://networkx.github.io/documentation/stable/reference/drawing.html).\n",
    "  For example:\n",
    "  ```\n",
    "  import networkx as nx\n",
    "  graph = nx.from_scipy_sparse_matrix(adjacency)\n",
    "  coords = nx.spring_layout(graph)  # Force-directed layout.\n",
    "  coords = eigenvectors[:, 1:3]  # Laplacian eigenmaps.\n",
    "  nx.draw_networkx_nodes(graph, coords, node_size=60, node_color=signal)\n",
    "  nx.draw_networkx_edges(graph, coords, alpha=0.3)\n",
    "  ```\n",
    "* Another option is to use the plotting capabilities of the **[PyGSP](https://github.com/epfl-lts2/pygsp)**, a Python package for Graph Signal Processing.\n",
    "  **Note that your are forbidden to use the PyGSP for anything else than plotting.**\n",
    "  See the documentation of its [plotting utilities](https://pygsp.readthedocs.io/en/stable/reference/plotting.html).\n",
    "  For example:\n",
    "  ```\n",
    "  import pygsp as pg\n",
    "  graph = pg.graphs.Graph(adjacency)\n",
    "  graph.set_coordinates('spring')  # Force-directed layout.\n",
    "  graph.set_coordinates(eigenvectors[:, 1:3])  # Laplacian eigenmaps.\n",
    "  graph.plot_signal(signal)\n",
    "  ```\n",
    "* Yet another option is to save your graph on disk, use **[Gephi](https://gephi.org)** externally, to visualize the graph, save the graph with the Gephi coordinates and finally load the nodes coordinates back into the notebook.\n",
    "\n",
    "We encourage you to try all the above methods before making your choice. Then be consistent and use only one throughout the milestone.\n",
    "NetworkX and PyGSP should already be installed in your environement. If that's not the case, install with `conda install networkx pygsp` (after activating the `ntds_2018` environment)."
   ]
  },
  {
   "cell_type": "markdown",
   "metadata": {},
   "source": [
    "## 0 - Load your network"
   ]
  },
  {
   "cell_type": "code",
   "execution_count": 315,
   "metadata": {},
   "outputs": [],
   "source": [
    "%matplotlib inline"
   ]
  },
  {
   "cell_type": "markdown",
   "metadata": {},
   "source": [
    "If you get a `No module named 'pyunlocbox'` error when running the below cell, install the [pyunlocbox](https://github.com/epfl-lts2/pyunlocbox) with `conda install pyunlocbox` (after activating the `ntds_2018` environment)."
   ]
  },
  {
   "cell_type": "code",
   "execution_count": 316,
   "metadata": {},
   "outputs": [],
   "source": [
    "import numpy as np\n",
    "import networkx as nx\n",
    "from scipy import sparse\n",
    "import scipy.sparse.linalg\n",
    "from matplotlib import pyplot as plt\n",
    "from pyunlocbox import functions, solvers\n",
    "import seaborn as sns"
   ]
  },
  {
   "cell_type": "markdown",
   "metadata": {},
   "source": [
    "For this milestone, all we will need is a set of features/labels for each of the nodes on the network, as well as the Laplacian, $L,$ and Gradient, $\\nabla_G,$ matrices that you have computed for your network while working on milestone 3.\n",
    "\n",
    "Import those objects in the cell below (or recompute the Laplacian and Gradient from your stored adjacency matrix, if you wish).\n",
    "\n",
    "_Note_: If your features/labels are not floating-point numbers, please convert them. For example, if your data has labels \"cat\" and \"dog\" for nodes that represent cats or dogs, respectively, you may assign the number `1.0` for the label \"cat\" and the number `-1.0` for the label \"dog\".  "
   ]
  },
  {
   "cell_type": "markdown",
   "metadata": {},
   "source": [
    "***Note that for the graph, we used the largest connected components, just as in milestone 3.***\n",
    "\n",
    "***Note that for the labels, we reused those computed for the giant component of the graph from milestone 3.***"
   ]
  },
  {
   "cell_type": "code",
   "execution_count": 317,
   "metadata": {},
   "outputs": [],
   "source": [
    "#Load the adjacency matrix from previous milestone\n",
    "adjacency =  np.load('largest_cc.npy')\n",
    "# Use NetworkX to compute Laplacian\n",
    "graph = nx.from_numpy_matrix(adjacency)\n",
    "laplacian = nx.laplacian_matrix(graph).toarray()\n",
    "\n",
    "# Compute gradient\n",
    "gradient = nx.incidence_matrix(graph, oriented=True).T\n",
    "\n",
    "# Load labels\n",
    "labels = np.load('labels_m3.npy')\n",
    "\n",
    "# Number of nodes\n",
    "n_nodes = len(adjacency)"
   ]
  },
  {
   "cell_type": "markdown",
   "metadata": {},
   "source": [
    "## 1 - Graph Fourier Transform\n",
    "\n",
    "In this section we will observe how your feature/label vector looks like in the \"Graph Fourier\" domain."
   ]
  },
  {
   "cell_type": "markdown",
   "metadata": {
    "inputHidden": false,
    "outputHidden": false
   },
   "source": [
    "### Question 1\n",
    "\n",
    "Compute the Fourier basis vectors and the Laplacian eigenvalues. Make sure to order those from smaller to larger, $\\lambda_0 \\leq \\lambda_1 \\leq \\dots \\leq \\lambda_{N-1},$ and use the same ordering for the Fourier basis vectors."
   ]
  },
  {
   "cell_type": "markdown",
   "metadata": {},
   "source": [
    "***We compute here the eigenvalues and eigenvectors in the same way as in milestone 3.***"
   ]
  },
  {
   "cell_type": "code",
   "execution_count": null,
   "metadata": {
    "inputHidden": false,
    "outputHidden": false
   },
   "outputs": [],
   "source": [
    "e, U =  scipy.linalg.eigh(laplacian)"
   ]
  },
  {
   "cell_type": "markdown",
   "metadata": {},
   "source": [
    "Plot the first 3 and the last Fourier basis vectors as signals on your graph. Clearly indicate which plot belongs to which basis vector."
   ]
  },
  {
   "cell_type": "code",
   "execution_count": null,
   "metadata": {},
   "outputs": [],
   "source": [
    "# Indice of the first non-zero eigenvalue\n",
    "lambda_1_ind = 1\n",
    "\n",
    "# Laplacian eigenmaps\n",
    "coords = U[:, lambda_1_ind:lambda_1_ind+2]\n",
    "\n",
    "def plot_signal(signal):\n",
    "    \"\"\"Display nodes of the graph in 2D\n",
    "    together with the given signal\"\"\"\n",
    "    \n",
    "    nodes = nx.draw_networkx_nodes(graph, coords, node_size=30, node_color=signal)\n",
    "    plt.xlabel('Value of $\\lambda_1$')\n",
    "    plt.ylabel('Value of $\\lambda_2$')\n",
    "    plt.colorbar(nodes)"
   ]
  },
  {
   "cell_type": "markdown",
   "metadata": {},
   "source": [
    "***For the 3 first eigenvectors, we plot starting from $u_1$ and not $u_0$. Indeed since we only have one connected component, plotting signal for $u_0$ will show all nodes have the same value.***"
   ]
  },
  {
   "cell_type": "code",
   "execution_count": null,
   "metadata": {
    "inputHidden": false,
    "outputHidden": false
   },
   "outputs": [],
   "source": [
    "plt.figure(figsize=(20, 20))\n",
    "\n",
    "# Plot the first 3 Fourier basis vectors\n",
    "for i in range(3):\n",
    "    plt.subplot(321 + 2*i)\n",
    "    plot_signal(U[:, lambda_1_ind + i])\n",
    "    plt.title('Plot for the signal being $u_{'+ str(lambda_1_ind + i)+'}$')\n",
    "\n",
    "    # Plot the last 3 Fourier basis vectors\n",
    "for i in range(3):\n",
    "    plt.subplot(322 + 2*i)\n",
    "    plot_signal(U[:, n_nodes - (i + 1)])\n",
    "    plt.title('Plot for the signal being $u_{'+ str(n_nodes - (i + 1))+'}$')\n",
    "\n",
    "plt.show()"
   ]
  },
  {
   "cell_type": "markdown",
   "metadata": {},
   "source": [
    "### Question 2\n",
    "\n",
    "What can you observe in terms of local variations when comparing the basis vectors corresponding to the smallest eigenvalues to those corresponding to the largest eigenvalue? How would this justify the interpretation of the eigenvalues as \"graph frequencies\"?"
   ]
  },
  {
   "cell_type": "markdown",
   "metadata": {},
   "source": [
    "***We can see that for the first three non-zero eigenvalues, plotting their corresponding eigenvectors as signals show various components of our graph. For example, for the first one, the nodes on one of the axis have different values from those on the other one, which all have value around $0$. For the second eigenvector, the same happens but on the other axis. And finally, for the third one, some nodes at the intersection of the axes formed by the nodes have different values, and all the rest have value $0$.***\n",
    "\n",
    "***For the last 3 eigenvectors, we see that all nodes have value zero, or very close to zero. So it seems that when we go in the last eigenvectors, all nodes are part of a same kind of cluster.***\n",
    "\n",
    "***So we can see that there are more local variations when plotting with the first eigenvectors.***"
   ]
  },
  {
   "cell_type": "markdown",
   "metadata": {},
   "source": [
    "### Question 3\n",
    "\n",
    "Implement a function that returns the Graph Fourier Transform (GFT) of a given vector $x \\in \\mathbb{R}^{N},$ with respect to your graph, and a function that computes the corresponding inverse GFT (iGFT)."
   ]
  },
  {
   "cell_type": "code",
   "execution_count": null,
   "metadata": {
    "inputHidden": false,
    "outputHidden": false
   },
   "outputs": [],
   "source": [
    "def GFT(x):\n",
    "    return np.matmul(np.transpose(U), x)\n",
    "\n",
    "def iGFT(x):\n",
    "    return np.matmul(U, x)"
   ]
  },
  {
   "cell_type": "markdown",
   "metadata": {},
   "source": [
    "### Question 4\n",
    "\n",
    "Plot your feature/label vector as a signal on your graph"
   ]
  },
  {
   "cell_type": "code",
   "execution_count": null,
   "metadata": {
    "inputHidden": false,
    "outputHidden": false
   },
   "outputs": [],
   "source": [
    "plot_signal(labels)\n",
    "plt.title('Plot for the signal being $u_{'+ str(lambda_1_ind + i)+'}$')\n",
    "plt.show()"
   ]
  },
  {
   "cell_type": "markdown",
   "metadata": {},
   "source": [
    "Plot the absolute values of the GFT of your feature/label signal as a function of the graph eigenvalues. Make sure to add a marker indicating the position of each graph eigenvalue, and remember to properly name the axes."
   ]
  },
  {
   "cell_type": "code",
   "execution_count": null,
   "metadata": {},
   "outputs": [],
   "source": [
    "def plot_spectral(signal):\n",
    "    plt.plot(e, signal)\n",
    "    plt.xlabel('Eigenvalues')\n",
    "    plt.ylabel('Value of the signal')"
   ]
  },
  {
   "cell_type": "code",
   "execution_count": null,
   "metadata": {
    "inputHidden": false,
    "outputHidden": false
   },
   "outputs": [],
   "source": [
    "# Compute the GFT of labels and take absolute value\n",
    "abs_gft = np.abs(GFT(labels))\n",
    "\n",
    "# Plot the signal as a function of the eigenvalues\n",
    "plot_spectral(abs_gft)\n",
    "plt.title('Absolute value of the GFT of the labels signal as a function of the eigenvalues')\n",
    "\n",
    "plt.show()"
   ]
  },
  {
   "cell_type": "markdown",
   "metadata": {},
   "source": [
    "### Question 5\n",
    "\n",
    "Discuss the behavior of the GFT that you plotted in the last question via comparing the plot of your label signal and those of the Fourier basis of Question 1. Would you consider your labels a \"low-pass\" or \"high-pass\" signal, or yet something else entirely?"
   ]
  },
  {
   "cell_type": "markdown",
   "metadata": {},
   "source": [
    "**We can observe a high peak at 0, followed by relatively low values along the X-axis. This is linked to the results of Question 1, where we had many nodes with value 0 for eigenvectors/eigenvalues with large indices. The signal has values for eigenvalues with small indice, which explains the peak.\n",
    "<br/>As this is the GFT of the label signal, we can consider that our labels are low pass since all the power of the signal is contained in eigenvalues with low indices.**"
   ]
  },
  {
   "cell_type": "markdown",
   "metadata": {
    "code_folding": []
   },
   "source": [
    "## 2 - Filtering on graphs\n",
    "\n",
    "In this section we will check how filtered Dirac impulses diffuse on your graph."
   ]
  },
  {
   "cell_type": "markdown",
   "metadata": {
    "inputHidden": false,
    "outputHidden": false
   },
   "source": [
    "### Question 6 \n",
    "\n",
    "Implement the following three filter kernels and the graph filtering operation.\n",
    "\n",
    "- The **heat kernel** is supposed to take in a vector of eigenvalues `e` and a parameter `t` and output a vector of evaluations of the heat kernel at those eigenvalues (see the course slides for help).\n",
    "- The **inverse filter** kernel is supposed to take in a vector of eigenvalues `e` and a parameter `t` and implement spectrally the  filter defined in the node domain by $f_{out}  = (I + t L)^{-1} f_{in},$ where $f_{in}, f_{out} \\in \\mathbb{R}^{N}$ are, repectively, the input and output signals to the filter.\n",
    "- The **rectangle kernel** takes in a vector of eigenvalues `e` and parameters `l_min` and `l_max` and returns `1.0` at coordinates satisfying $(e[l] \\geq l_{min}) \\wedge (e[l] \\leq l_{max}),$ and `0.0` otherwise.\n",
    "- The **graph filtering** operation takes a graph signal $x \\in \\mathbb{R}^{N}$, a spectral graph `kernel` and a set of keyworded variables, and returns the corresponding filtered signal.\n",
    "    - _Hint:_ Remember that you have implemented the `GFT` and `iGFT` operations in Question 3.\n",
    "    - The `**kwargs` is a placeholder to collect supplementary pairs of keyword-values that are not known by the implementation before execution time.\n",
    "      The `kwargs` variable is a dictionary whose keyes and values are the parameter names and values.\n",
    "      This is useful to allow both `graph_filter(x, heat_kernel, tau=1.0)` and `graph_filter(x, rectangle_kernel, lambda_min=0.0, lambda_max=1.0)` to be valid calls from the same implementation.\n",
    "      One can then defer the keyword-value assignment to the `kernel` call: `foo = kernel(bar, **kwargs)`."
   ]
  },
  {
   "cell_type": "code",
   "execution_count": null,
   "metadata": {
    "inputHidden": false,
    "outputHidden": false
   },
   "outputs": [],
   "source": [
    "def heat_kernel(e, t):\n",
    "    return np.exp(-t * e)\n",
    "\n",
    "# As discussed with the TA, we implemented the inverse kernel as follow\n",
    "def inverse_kernel(e, t):\n",
    "    return 1/(1 + e*t)\n",
    "\n",
    "def rectangle_kernel(e, l_min, l_max):\n",
    "    return np.bitwise_and(e <= l_max, e >= l_min).astype(float)\n",
    "\n",
    "def graph_filter(x, kernel, **kwargs):\n",
    "    # Go to Fourier domain\n",
    "    x = GFT(x)\n",
    "    \n",
    "    # Apply the kernel\n",
    "    k = kernel(**kwargs)\n",
    "    x = np.multiply(x, k)\n",
    "    \n",
    "    #Perform inverse Fourier transform\n",
    "    return iGFT(x)"
   ]
  },
  {
   "cell_type": "markdown",
   "metadata": {},
   "source": [
    "### Question 7\n",
    "\n",
    "Plot all three filter kernels in the spectral domain. Remember to properly name the axes and title the plots. Choose filter parameters that best approximate the behavior of the GFT of your feature/label signal (as seen in Question 4)."
   ]
  },
  {
   "cell_type": "code",
   "execution_count": null,
   "metadata": {
    "inputHidden": false,
    "outputHidden": false
   },
   "outputs": [],
   "source": [
    "plt.figure(figsize=(20, 5))\n",
    "\n",
    "plt.subplot(131)\n",
    "plot_spectral(heat_kernel(e, 50))\n",
    "plt.title('Heat kernel as a function of the eigenvalues')\n",
    "\n",
    "plt.subplot(132)\n",
    "plot_spectral(inverse_kernel(e, 1))\n",
    "plt.title('Inverse kernel as a function of the eigenvalues')\n",
    "\n",
    "plt.subplot(133)\n",
    "plot_spectral(rectangle_kernel(e, 0, 0.5))\n",
    "plt.title('Rectangle kernel as a function of the eigenvalues')\n",
    "\n",
    "plt.show()"
   ]
  },
  {
   "cell_type": "markdown",
   "metadata": {},
   "source": [
    "##### Question 8\n",
    "\n",
    "Consider two Dirac impulses arbitrarily placed on your graph. Plot their filtered versions by the three filter kernels implemented in Question 6."
   ]
  },
  {
   "cell_type": "code",
   "execution_count": null,
   "metadata": {
    "inputHidden": false,
    "outputHidden": false
   },
   "outputs": [],
   "source": [
    "dirac_ind = np.random.randint(n_nodes, size=2)\n",
    "dirac_pulses = np.zeros(n_nodes)\n",
    "dirac_pulses[dirac_ind] = 1000\n",
    "\n",
    "\n",
    "filtered_heat = graph_filter(dirac_pulses, heat_kernel, e=e, t=50)\n",
    "filtered_inv = graph_filter(dirac_pulses, inverse_kernel, e=e, t=1)\n",
    "filtered_rec = graph_filter(dirac_pulses, rectangle_kernel, e=e, l_min=0, l_max=0.1)\n",
    "\n",
    "plt.figure(figsize=(20, 5))\n",
    "plt.subplot(131)\n",
    "plot_signal(filtered_heat)\n",
    "plt.title('Plot of the filtered signal on the graph with heat kernel')\n",
    "\n",
    "plt.subplot(132)\n",
    "plot_signal(filtered_inv)\n",
    "plt.title('Plot of the filtered signal on the graph with inverse kernel')\n",
    "\n",
    "plt.subplot(133)\n",
    "plot_signal(filtered_rec)\n",
    "plt.title('Plot of the filtered signal on the graph with rectangle kernel')\n",
    "\n",
    "plt.show()"
   ]
  },
  {
   "cell_type": "markdown",
   "metadata": {},
   "source": [
    "Comment on the \"diffusion\" of the Diracs induced by the filters. What does it say about the \"communication\" of information across your network? Relate that to the network connectivity measures that you analyzed during the previous milestones."
   ]
  },
  {
   "cell_type": "markdown",
   "metadata": {
    "inputHidden": false,
    "outputHidden": false
   },
   "source": [
    "***Note that for all 3 filters, it is sometimes quite hard to see properly the results as some nodes are covered by others.***\n",
    "\n",
    "***In general, we see the following:***\n",
    "\n",
    "***For the heat kernel, we clearly see the \"heat\" flow along the nodes in the 2 axes, and we can see where the dirac started from (notice that both dirac started from the blob at the intersection of the two lines formed by the nodes, this is were most of the nodes are). It seems that we have a big component made of the two lines of nodes since the heat diffuses along those lines.\n",
    "<br/>For the the inverse kernel, it is hard to see any result as we were not able to find a value of $t$ giving the same shape as our labels signal. This was a burden, and we will see that using this filter for denoising gives extremely bad results.\n",
    "<br/>For the the rectangle kernel, again we see that the diracs started from the blob of nodes, and it spreads through the axes.***\n",
    "\n",
    "***Comparing these results to what we found in the last milestones, the cluster we got in Milestone 3 is quite visible. In the heat kernel, we see that through the horizontal line it takes more time to \"communicate\", which indicates that nodes are not too highly connected in this cluster. This can also be seen for the rectangle kernel.\n",
    "<br/>We can also see at the intersection, some nodes were values drop very quickly. This shows that around there, there are a lot of connection between the nodes.***"
   ]
  },
  {
   "cell_type": "markdown",
   "metadata": {},
   "source": [
    "## 3 - De-noising\n",
    "\n",
    "In this section we will add some centered Gaussian noise to your feature/label signal and attempt to recover it."
   ]
  },
  {
   "cell_type": "markdown",
   "metadata": {},
   "source": [
    "### Question 9\n",
    "\n",
    "In the cell below, set the noise variance $\\sigma^2$ by making sure that the signal-to-noise ratio $SNR = \\frac{\\operatorname{Var}(\\text{labels})}{\\sigma^2}$ is about  $1.5$.\n",
    "\n",
    "_Note:_ Actually, you might want to play with the noise variance here and set it to different values and see how the denoising filters behave."
   ]
  },
  {
   "cell_type": "code",
   "execution_count": null,
   "metadata": {
    "inputHidden": false,
    "outputHidden": false
   },
   "outputs": [],
   "source": [
    "SNR = 1.5\n",
    "noise_variance = np.var(labels) / SNR\n",
    "noisy_measurements = labels + noise_variance * np.random.randn(n_nodes)"
   ]
  },
  {
   "cell_type": "markdown",
   "metadata": {},
   "source": [
    "### Question 10\n",
    "\n",
    "In the denoising setting, a common graph signal processing assumption is that the signal $z$ that we want to recover is \"smooth\", in the sense that $\\|\\nabla_G z\\|_2 = \\sqrt{z^{\\top} L z}$ is small, while remaining \"close\" to the measurements that we start with. This leads to denoising by solving the following optimization problem:\n",
    "\n",
    "$$\n",
    "z^\\star = \\text{arg} \\, \\underset{z \\in \\mathbb{R}^{N}}{\\min} \\, \\|z - y\\|_2^2 + \\gamma z^{\\top} L z, \n",
    "$$\n",
    "\n",
    "where $y \\in \\mathbb{R}^{N}$ is the vector of noisy measurements.\n",
    "\n",
    "Derive the close form solution to this problem giving $z^\\star$ as a function of $y$, $\\gamma$ and $L$. Does this solution correspond to any graph filtering operation that you know?"
   ]
  },
  {
   "cell_type": "markdown",
   "metadata": {},
   "source": [
    "***To obtain the minimum, we use the first-order optimality condition,so we want the derivative of the formula evaluated to be equal to $0$.***\n",
    "\n",
    "***Hence we first we have:***\n",
    "\n",
    "$$\n",
    "\\text{arg} \\, \\underset{z \\in \\mathbb{R}^{N}}{\\min} \\, \\frac{\\tau}{2}\\|z - y\\|_2^2 + z^{\\top} L z \\implies\n",
    "Lz^\\star + \\frac{\\tau}{2}(z^\\star - y) = 0,\n",
    "$$\n",
    "\n",
    "***where here we set $\\tau = \\frac{2}{\\gamma}$.***\n",
    "\n",
    "***Using the Graph Fourier Transform, we obtain:***\n",
    "\n",
    "$$\n",
    "\\widehat{Lz^\\star}({l}) + \\frac{\\tau}{2}(\\widehat{z^\\star}(l) - \\widehat{y}(l)) = 0 \\, \\, \\, \\, \\forall l \\in \\{0, 1, ..., N-1\\}\n",
    "$$\n",
    "\n",
    "$$\n",
    "\\implies \\widehat{z^\\star}(l) = \\frac{\\tau}{\\tau + 2\\lambda_{l}}\\widehat{y}(l)\n",
    "$$\n",
    "\n",
    "$$\n",
    "\\implies \\widehat{z^\\star}(l) = \\frac{\\frac{2}{\\gamma}}{\\frac{2}{\\gamma} + 2\\lambda_{l}}\\widehat{y}(l)\n",
    "= \\frac{1}{1 + 2\\gamma\\lambda_{l}}\\widehat{y}(l)\n",
    "$$\n",
    "\n",
    "***This solution corresponds to a Low pass filter.***"
   ]
  },
  {
   "cell_type": "markdown",
   "metadata": {},
   "source": [
    "### Question 11\n",
    "\n",
    "Now, denoise the noisy measurements by passing them through the filters that you implemented in Question 6. Choose the filter parameters based on the behavior of the GFT of your original label signal (this is the prior knowledge that you input to the problem)."
   ]
  },
  {
   "cell_type": "code",
   "execution_count": null,
   "metadata": {
    "inputHidden": false,
    "outputHidden": false
   },
   "outputs": [],
   "source": [
    "z_heat_denoised = graph_filter(noisy_measurements, heat_kernel, e = e, t = 1)\n",
    "z_inv_denoised = graph_filter(noisy_measurements, inverse_kernel, e = e, t = 1)\n",
    "z_rect_denoised = graph_filter(noisy_measurements, rectangle_kernel, e = e, l_min = 0, l_max = 0.5)"
   ]
  },
  {
   "cell_type": "markdown",
   "metadata": {},
   "source": [
    "Plot, on your graph, the original label signal, the noisy measurements, and the three denoised version obtained above. Report on each plot the value of the corresponding relative error \n",
    "$$\n",
    "\\text{rel-err} = \\frac{\\|\\text{labels} - z \\|_2}{\\|\\text{labels}\\|_2},\n",
    "$$\n",
    "where $z$ is the plotted signal."
   ]
  },
  {
   "cell_type": "code",
   "execution_count": null,
   "metadata": {},
   "outputs": [],
   "source": [
    "# Return the relative error as a percentage of error\n",
    "def rel_err(labels, z):\n",
    "    return np.linalg.norm(labels - z)  / np.linalg.norm(labels) "
   ]
  },
  {
   "cell_type": "code",
   "execution_count": null,
   "metadata": {},
   "outputs": [],
   "source": [
    "def plot_denoized(labels, z, z_name):\n",
    "    plt.plot(e, z, label = 'signal')\n",
    "    plt.xlabel('Eigenvalues')\n",
    "    plt.ylabel('Value of the signal')\n",
    "    plt.title(z_name)\n",
    "    plt.annotate('Relative error: ' + str(rel_err(labels, z)), xy = (180, (z.max() + z.min())/2), color = 'red')"
   ]
  },
  {
   "cell_type": "code",
   "execution_count": null,
   "metadata": {
    "inputHidden": false,
    "outputHidden": false
   },
   "outputs": [],
   "source": [
    "plt.figure(figsize=(20, 20))\n",
    "\n",
    "# Plot labels\n",
    "plt.subplot(321)\n",
    "plot_denoized(labels, labels, 'labels')\n",
    "\n",
    "# Plot noisy_measurements\n",
    "plt.subplot(323)\n",
    "plot_denoized(labels, noisy_measurements, 'noisy_measurements')\n",
    "\n",
    "# Plot z_heat_denoised\n",
    "plt.subplot(324)\n",
    "plot_denoized(labels, z_heat_denoised, 'z_heat_denoised')\n",
    "\n",
    "# Plot z_inv_denoised\n",
    "plt.subplot(325)\n",
    "plot_denoized(labels, z_inv_denoised, 'z_inv_denoised')\n",
    "\n",
    "# Plot z_rect_denoised\n",
    "plt.subplot(326)\n",
    "plot_denoized(labels, z_rect_denoised, 'z_rect_denoised')\n",
    "\n",
    "plt.show()"
   ]
  },
  {
   "cell_type": "markdown",
   "metadata": {},
   "source": [
    "Finally, overlay on the same plot the GFT of all five signals above."
   ]
  },
  {
   "cell_type": "code",
   "execution_count": null,
   "metadata": {
    "inputHidden": false,
    "outputHidden": false
   },
   "outputs": [],
   "source": [
    "plt.figure(figsize=(10, 10))\n",
    "plt.semilogy(e, GFT(labels), color = 'lightskyblue', label = 'labels')\n",
    "plt.semilogy(e, GFT(noisy_measurements), color = 'orangered', label = 'noisy_measurements')\n",
    "plt.semilogy(e, GFT(z_heat_denoised), color = 'springgreen', label = 'z_heat_denoised')\n",
    "plt.semilogy(e, GFT(z_inv_denoised), color = 'orange', label = 'z_inv_denoised')\n",
    "plt.semilogy(e, GFT(z_rect_denoised), color = 'palevioletred', label = 'z_rect_denoised')\n",
    "plt.xlabel('Eigenvalues')\n",
    "plt.ylabel('Value of the signal')\n",
    "plt.legend()"
   ]
  },
  {
   "cell_type": "markdown",
   "metadata": {},
   "source": [
    "### Question 12\n",
    "\n",
    "Comment on which denoised version seems to best match the original label signal. What is the underlying assumption behind the three filtering approaches? Do you think it holds for your label signal? Why?"
   ]
  },
  {
   "cell_type": "markdown",
   "metadata": {},
   "source": [
    "***By looking at the plot of the heat kernel, inverse kernel and rectangle kernel, we clearly see that the heat kernel produces the smallest relative error. By looking at the graph above, we can see that the GFT of the heat kernel is quite similar in shape as the GFT of the original one, even if it has been shifted down.***"
   ]
  },
  {
   "cell_type": "markdown",
   "metadata": {
    "ExecuteTime": {
     "end_time": "2018-08-31T13:05:59.301384Z",
     "start_time": "2018-08-31T13:05:59.297336Z"
    }
   },
   "source": [
    "## 4 - Transductive learning\n",
    "\n",
    "It is often the case in large networks that we can only afford to query properties/labels on a small subset of nodes. Nonetheless, if the underlying labels signal is \"regular\" enough, we might still be able to recover a good approximation of it by solving an offline variational problem, with constraints on the values of the measured nodes. \n",
    "\n",
    "In this section, we will be interested in solving such transductive learning problems by minimizing a (semi-) p-norm of the graph gradient applied to the signal of interest:\n",
    "\n",
    "$$\n",
    "\\text{arg} \\, \\underset{z|_S = y}{\\min} \\|\\nabla_G z\\|_p^p,\n",
    "$$\n",
    "\n",
    "where $S$ is the set of measured nodes.\n",
    "\n",
    "In English, we can say that we are looking for solutions with small \"aggregated local variations\", as measured by $\\|\\nabla_G z\\|_p^p = \\sum_{i=1}^{n} \\sum_{j=1}^{n} \\left( \\sqrt{W_{ij}} |z[i] - z[j]| \\right)^p,$ while satisfying the measurement constraints $z[i] = y[i]$ for $i \\in S.$\n",
    "\n",
    "We will work with two cases, according to the choices $p=1$ or $p=2.$ For $p=1,$ the problem is known as \"interpolation by graph total-variation minimization,\" whereas for $p=2$ it is sometimes called \"interpolation by Tikhonov regularization\".\n",
    "\n",
    "In order to solve these variational problems with the black-box solver provided to you, you will use the [pyunlocbox](https://pyunlocbox.readthedocs.io). This toolbox implements iterative solvers based on so-called [\"proximal-splitting\"](https://en.wikipedia.org/wiki/Proximal_gradient_method) methods."
   ]
  },
  {
   "cell_type": "markdown",
   "metadata": {},
   "source": [
    "### Question 13\n",
    "\n",
    "Throughout this section, we will consider only a binarized version of your label signal. If your variable `labels` currently has values other than $\\{-1, 1\\},$ threshold them so that those are the only values taken in this vector. This can be done for example by choosing a number $t \\in \\mathbb{R}$ and then setting $\\text{labels_bin}[i] = 1$ if $\\text{labels}[i] \\geq t$ and $\\text{labels_bin}[i] = 0$ otherwise."
   ]
  },
  {
   "cell_type": "code",
   "execution_count": null,
   "metadata": {},
   "outputs": [],
   "source": [
    "def get_labels_bin(threshold):\n",
    "    return [-1 if v <= threshold else 1 for v in labels]"
   ]
  },
  {
   "cell_type": "code",
   "execution_count": null,
   "metadata": {
    "inputHidden": false,
    "outputHidden": false
   },
   "outputs": [],
   "source": [
    "labels_bin = get_labels_bin(2)"
   ]
  },
  {
   "cell_type": "markdown",
   "metadata": {},
   "source": [
    "Now, subsample this binarized label signal by $70\\%$ by choosing, uniformly at random, $30\\%$ of the nodes whose labels we will keep.\n",
    "\n",
    "You will do this by computing a \"measurement mask\" vector `w` with `1.0`'s at the measured coordinates, and $0.0$'s otherwise."
   ]
  },
  {
   "cell_type": "code",
   "execution_count": null,
   "metadata": {},
   "outputs": [],
   "source": [
    "def getMask(ratio):\n",
    "    m = int(ratio * n_nodes)\n",
    "    w = np.array([1]*m+[0]*(n_nodes-m))\n",
    "    #np.random.seed(45687)\n",
    "    np.random.shuffle(w)\n",
    "    return w"
   ]
  },
  {
   "cell_type": "code",
   "execution_count": null,
   "metadata": {
    "scrolled": true
   },
   "outputs": [],
   "source": [
    "w = getMask(ratio = 0.3)\n",
    "Sub_ls = w * get_labels_bin(2)\n",
    "Signal = np.asarray([ np.nan  if v == 0 else v for v in Sub_ls])"
   ]
  },
  {
   "cell_type": "markdown",
   "metadata": {},
   "source": [
    "\n",
    "Plot the subsampled signal on the graph. _Hint:_ you might want to set to `numpy.nan` the values of the un-measured nodes for a cleaner plot."
   ]
  },
  {
   "cell_type": "code",
   "execution_count": null,
   "metadata": {
    "inputHidden": false,
    "outputHidden": false
   },
   "outputs": [],
   "source": [
    "plt.figure(figsize=(20, 5))\n",
    "\n",
    "plt.plot(e, Signal)\n",
    "plt.xlabel('Eigenvalues')\n",
    "plt.ylabel('Value of the signal')\n",
    "plt.title('Subsampled label signal')\n",
    "plt.legend()"
   ]
  },
  {
   "cell_type": "markdown",
   "metadata": {},
   "source": [
    "### Interlude\n",
    "\n",
    "For the solution of the variational problems you can use the following function as a \"black-box\". \n",
    "\n",
    "You will just need to provide a `gradient` matrix (which you should already have from Section 0), and an orthogonal projection operator `P` onto the span of the measured coordinates (made precise in the next question)."
   ]
  },
  {
   "cell_type": "code",
   "execution_count": null,
   "metadata": {},
   "outputs": [],
   "source": [
    "def graph_pnorm_interpolation(gradient, P, x0=None, p=1., **kwargs):\n",
    "    r\"\"\"\n",
    "    Solve an interpolation problem via gradient p-norm minimization.\n",
    "\n",
    "    A signal :math:`x` is estimated from its measurements :math:`y = A(x)` by solving\n",
    "    :math:`\\text{arg}\\underset{z \\in \\mathbb{R}^n}{\\min}\n",
    "    \\| \\nabla_G z \\|_p^p \\text{ subject to } Az = y` \n",
    "    via a primal-dual, forward-backward-forward algorithm.\n",
    "\n",
    "    Parameters\n",
    "    ----------\n",
    "    gradient : array_like\n",
    "        A matrix representing the graph gradient operator\n",
    "    P : callable\n",
    "        Orthogonal projection operator mapping points in :math:`z \\in \\mathbb{R}^n` \n",
    "        onto the set satisfying :math:`A P(z) = A z`.\n",
    "    x0 : array_like, optional\n",
    "        Initial point of the iteration. Must be of dimension n.\n",
    "        (Default is `numpy.random.randn(n)`)\n",
    "    p : {1., 2.}\n",
    "    kwargs :\n",
    "        Additional solver parameters, such as maximum number of iterations\n",
    "        (maxit), relative tolerance on the objective (rtol), and verbosity\n",
    "        level (verbosity). See :func:`pyunlocbox.solvers.solve` for the full\n",
    "        list of options.\n",
    "\n",
    "    Returns\n",
    "    -------\n",
    "    x : array_like\n",
    "        The solution to the optimization problem.\n",
    "\n",
    "    \"\"\"\n",
    "    \n",
    "    grad = lambda z: gradient.dot(z)\n",
    "    div = lambda z: gradient.transpose().dot(z)\n",
    "\n",
    "    # Indicator function of the set satisfying :math:`y = A(z)`\n",
    "    f = functions.func()\n",
    "    f._eval = lambda z: 0\n",
    "    f._prox = lambda z, gamma: P(z)\n",
    "\n",
    "    # :math:`\\ell_1` norm of the dual variable :math:`d = \\nabla_G z`\n",
    "    g = functions.func()\n",
    "    g._eval = lambda z: np.sum(np.abs(grad(z)))\n",
    "    g._prox = lambda d, gamma: functions._soft_threshold(d, gamma)\n",
    "\n",
    "    # :math:`\\ell_2` norm of the gradient (for the smooth case)\n",
    "    h = functions.norm_l2(A=grad, At=div)\n",
    "\n",
    "    stepsize = (0.9 / (1. + scipy.sparse.linalg.norm(gradient, ord='fro'))) ** p\n",
    "\n",
    "    solver = solvers.mlfbf(L=grad, Lt=div, step=stepsize)\n",
    "\n",
    "    if p == 1.:\n",
    "        problem = solvers.solve([f, g, functions.dummy()], x0=x0, solver=solver, **kwargs)\n",
    "        return problem['sol']\n",
    "    if p == 2.:\n",
    "        problem = solvers.solve([f, functions.dummy(), h], x0=x0, solver=solver, **kwargs)\n",
    "        return problem['sol']\n",
    "    else:\n",
    "        return x0"
   ]
  },
  {
   "cell_type": "markdown",
   "metadata": {},
   "source": [
    "### Question 14\n",
    "\n",
    "During the iterations of the algorithm used for solving the variational problem, we have to make sure that the labels at the measured nodes stay the same. We will do this by means of an operator `P` which, given a vector $a \\in \\mathbb{R}^{N},$ returns another vector $b \\in \\mathbb{R}^{N}$ satisfying $b[i] = \\text{labels_bin}[i]$ for every node $i$ in the set $S$ of known labels, and $b[i] = a[i]$ otherwise. Write in the cell below the function for this orthogonal projection operator `P`.\n",
    "\n",
    "_Hint:_ remember you have already computed the mask `w`."
   ]
  },
  {
   "cell_type": "code",
   "execution_count": null,
   "metadata": {
    "inputHidden": false,
    "outputHidden": false
   },
   "outputs": [],
   "source": [
    "def P(a):\n",
    "    b = np.array([ labels_bin[i] if w[i] else a[i] for i in range(len(a))])\n",
    "    return b"
   ]
  },
  {
   "cell_type": "markdown",
   "metadata": {
    "inputHidden": false,
    "outputHidden": false
   },
   "source": [
    "### Question 15\n",
    "\n",
    "Solve the variational problems for $p = 1$ and $p = 2$. Record the solution for the $1-$norm minimization under `sol_1norm_min` and the one for $2-$norm minimization under `sol_2norm_min`.\n",
    "\n",
    "Compute also binarized versions of these solutions by thresholding the values with respect to $0$, that is, non-negative values become `1.0`, while negative values become `-1.0`. Store those binarized versions under `sol_1norm_bin` and `sol_2norm_bin`, respectively."
   ]
  },
  {
   "cell_type": "code",
   "execution_count": null,
   "metadata": {
    "inputHidden": false,
    "outputHidden": false,
    "scrolled": true
   },
   "outputs": [],
   "source": [
    "sol_1norm_min = graph_pnorm_interpolation(gradient, P, x0=e ,p=1.)\n",
    "sol_2norm_min = graph_pnorm_interpolation(gradient, P, x0=e, p=2.)\n",
    "\n",
    "threshold = 0\n",
    "\n",
    "sol_1norm_bin = np.sign(sol_1norm_min)\n",
    "\n",
    "sol_2norm_bin = np.sign(sol_2norm_min)\n"
   ]
  },
  {
   "cell_type": "markdown",
   "metadata": {
    "inputHidden": false,
    "outputHidden": false
   },
   "source": [
    "Plot, on your graph, the original `labels_bin` signal, as well as the solutions to the variational problems (both binarized and otherwise). Indicate on each plot the value of the relative error $\\text{rel-err} = \\frac{\\|\\text{labels_bin} - z\\|_2}{\\|\\text{labels_bin}\\|_2}$, where $z$ is the signal in the corresponding plot."
   ]
  },
  {
   "cell_type": "code",
   "execution_count": null,
   "metadata": {},
   "outputs": [],
   "source": [
    "plt.figure(figsize=(20, 12))\n",
    "\n",
    "plt.subplot(231)\n",
    "plt.plot(e, labels_bin)\n",
    "#plt.plot(e, np.full((len(e),), rel_err(labels, labels)), color = 'red', label = 'relative error')\n",
    "plt.xlabel('Eigenvalues')\n",
    "plt.ylabel('Value of the signal')\n",
    "plt.title('Original Label_bins signal')\n",
    "plt.legend()\n",
    "\n",
    "plt.subplot(232)\n",
    "plt.plot(e, sol_1norm_min, label = 'signal')\n",
    "plt.plot(e, np.full((len(e),), rel_err(labels, sol_1norm_min)), color = 'red', label = 'relative error')\n",
    "plt.xlabel('Eigenvalues')\n",
    "plt.ylabel('Value of the signal')\n",
    "plt.title('1-norm solution')\n",
    "plt.legend()\n",
    "\n",
    "plt.subplot(233)\n",
    "plt.plot(e, sol_1norm_bin, label = 'signal')\n",
    "plt.plot(e, np.full((len(e),), rel_err(labels, sol_1norm_bin)), color = 'red', label = 'relative error')\n",
    "plt.xlabel('Eigenvalues')\n",
    "plt.ylabel('Value of the signal')\n",
    "plt.title('1-norm solution binarized')\n",
    "plt.legend()\n",
    "\n",
    "plt.subplot(234)\n",
    "plt.plot(e, sol_2norm_min, label = 'signal')\n",
    "plt.plot(e, np.full((len(e),), rel_err(labels, sol_2norm_min)), color = 'red', label = 'relative error')\n",
    "plt.xlabel('Eigenvalues')\n",
    "plt.ylabel('Value of the signal')\n",
    "plt.title('2-norm solution')\n",
    "plt.legend()\n",
    "\n",
    "plt.subplot(235)\n",
    "plt.plot(e, sol_2norm_bin, label = 'signal')\n",
    "plt.plot(e, np.full((len(e),), rel_err(labels, sol_2norm_bin)), color = 'red', label = 'relative error')\n",
    "plt.xlabel('Eigenvalues')\n",
    "plt.ylabel('Value of the signal')\n",
    "plt.title('2-norm solution binarized')\n",
    "plt.legend()\n",
    "\n",
    "plt.show()"
   ]
  },
  {
   "cell_type": "markdown",
   "metadata": {},
   "source": [
    "### Question 16\n",
    "\n",
    "Now that you have got a feeling for the sort of solutions that the transductive learning problems studied can give, we will see what is the effect of the number of measurements on the accuracy of both $p-$norm minimization problems.\n",
    "\n",
    "Towards this goal, you will write a `phase_transition()` function. This function will basically go over all the procedures that you have implemented in this section, but for varying numbers of measurements and thresholding values. It will also compute the relative error, $\\text{rel-err},$ of the solutions and average them over a number of trials.\n",
    "\n",
    "The output of the `phase_transition()` function has to be a matrix with `len(mn_ratios)` columns and `len(thresholds)` rows. Each pixel $(i,j)$ in the output matrix has to contain the average, over `n_trials` trials, of the relative error $\\text{rel-err}$ in the binarized (with threshold `thresholds[i]`) solution given by `graph_pnorm_interpolation()` from observing an `mn_ratios[j]` fraction of nodes. The randomness comes from a different choice of mask `w` at each trial, hence the averaging.\n",
    "\n",
    "The interest of this phase transition matrix is to assess what level of recovery error one could expect for a certain fraction of measurements and a certain threshold level."
   ]
  },
  {
   "cell_type": "code",
   "execution_count": null,
   "metadata": {
    "inputHidden": false,
    "outputHidden": false
   },
   "outputs": [],
   "source": [
    "def phase_transition(mn_ratios, thresholds, n_trials, labels_bin, p):\n",
    "    pt_matrix = np.zeros((len(thresholds),len(mn_ratios)))\n",
    "    for ratio_index in range(len(mn_ratios)):\n",
    "        for thresh_index in range(len(thresholds)):\n",
    "            w = getMask(mn_ratios[ratio_index])\n",
    "            Sub_ls = w * labels_bin\n",
    "            Signal = np.asarray([ np.nan  if v == 0 else v for v in Sub_ls])\n",
    "            err_sum = 0\n",
    "            for _iter in range(n_trials): \n",
    "                inter = graph_pnorm_interpolation(gradient, P, e, p)\n",
    "                inter_bin = [1 if x > thresholds[thresh_index] else -1 for x in inter]\n",
    "                err_sum += rel_err(inter, Sub_ls)\n",
    "            pt_matrix[thresh_index][ratio_index] = np.mean(err_sum * 1.0 / n_trials)\n",
    "    \n",
    "    return pt_matrix"
   ]
  },
  {
   "cell_type": "markdown",
   "metadata": {},
   "source": [
    "### Question 17\n",
    "\n",
    "Pick 5 \"m/n\" ratios in $(0, 1)$ and 5 threshold levels in $(-1, 1)$ and run the `phase_transition()` function with `n_trials` = 20, for both $p = 1$ and $p = 2$."
   ]
  },
  {
   "cell_type": "code",
   "execution_count": null,
   "metadata": {
    "inputHidden": false,
    "outputHidden": false,
    "scrolled": true
   },
   "outputs": [],
   "source": [
    "mn_ratios = [0.2, 0.35, 0.5, 0.65, 0.8]\n",
    "\n",
    "thresholds = [-0.5, -0.25, 0, 0.25, 0.5]\n",
    "\n",
    "pt_matrix_1norm = phase_transition(mn_ratios, thresholds, 20, labels_bin, 1)\n",
    "\n",
    "pt_matrix_2norm = phase_transition(mn_ratios, thresholds, 20, labels_bin, 2)"
   ]
  },
  {
   "cell_type": "markdown",
   "metadata": {},
   "source": [
    "Plot both phase transition matrices as images with a colorbar. Make sure to properly name the axes and title the images. "
   ]
  },
  {
   "cell_type": "code",
   "execution_count": null,
   "metadata": {
    "inputHidden": false,
    "outputHidden": false,
    "scrolled": false
   },
   "outputs": [],
   "source": [
    "grid = pt_matrix_1norm\n",
    "fig, ax = plt.subplots(figsize=(15, 7.5))\n",
    "sns.heatmap(grid, ax = ax, square = True, annot = True, linewidth = 0.5, fmt='g')\n",
    "ax.set_xticklabels(mn_ratios)\n",
    "ax.set_yticklabels(thresholds)\n",
    "ax.set_xlabel(\"Subsample ratio\")\n",
    "ax.set_ylabel(\"Label bin threshold\")\n",
    "plt.title(\"Transition Matrix for 1-norm interpolation\")"
   ]
  },
  {
   "cell_type": "code",
   "execution_count": null,
   "metadata": {},
   "outputs": [],
   "source": [
    "grid = pt_matrix_2norm\n",
    "fig, ax = plt.subplots(figsize=(15, 7.5))\n",
    "sns.heatmap(grid, ax = ax, square = True, annot = True, linewidth = 0.5, fmt='g')\n",
    "ax.set_xticklabels(mn_ratios)\n",
    "ax.set_yticklabels(thresholds)\n",
    "ax.set_xlabel(\"Subsample ratio\")\n",
    "ax.set_ylabel(\"Label bin threshold\")\n",
    "plt.title(\"Transition Matrix for 2-norm interpolation\")"
   ]
  },
  {
   "cell_type": "markdown",
   "metadata": {},
   "source": [
    "### Question 18\n",
    "\n",
    "Do the phase transition plots above provide any justification for choosing one $p-$norm interpolation over the other? Why?"
   ]
  },
  {
   "cell_type": "markdown",
   "metadata": {},
   "source": [
    "**The 2-norm is more centered in 1, thus it is the one we choose**"
   ]
  }
 ],
 "metadata": {
  "kernel_info": {
   "name": "python3"
  },
  "kernelspec": {
   "display_name": "Python 3",
   "language": "python",
   "name": "python3"
  },
  "language_info": {
   "codemirror_mode": {
    "name": "ipython",
    "version": 3
   },
   "file_extension": ".py",
   "mimetype": "text/x-python",
   "name": "python",
   "nbconvert_exporter": "python",
   "pygments_lexer": "ipython3",
   "version": "3.7.0"
  },
  "latex_envs": {
   "LaTeX_envs_menu_present": true,
   "autoclose": true,
   "autocomplete": true,
   "bibliofile": "biblio.bib",
   "cite_by": "apalike",
   "current_citInitial": 1,
   "eqLabelWithNumbers": true,
   "eqNumInitial": 1,
   "hotkeys": {
    "equation": "Ctrl-E",
    "itemize": "Ctrl-I"
   },
   "labels_anchors": false,
   "latex_user_defs": false,
   "report_style_numbering": false,
   "user_envs_cfg": false
  },
  "nteract": {
   "version": "0.12.3"
  },
  "varInspector": {
   "cols": {
    "lenName": 16,
    "lenType": 16,
    "lenVar": 40
   },
   "kernels_config": {
    "python": {
     "delete_cmd_postfix": "",
     "delete_cmd_prefix": "del ",
     "library": "var_list.py",
     "varRefreshCmd": "print(var_dic_list())"
    },
    "r": {
     "delete_cmd_postfix": ") ",
     "delete_cmd_prefix": "rm(",
     "library": "var_list.r",
     "varRefreshCmd": "cat(var_dic_list()) "
    }
   },
   "types_to_exclude": [
    "module",
    "function",
    "builtin_function_or_method",
    "instance",
    "_Feature"
   ],
   "window_display": false
  }
 },
 "nbformat": 4,
 "nbformat_minor": 2
}
