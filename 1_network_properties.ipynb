{
 "cells": [
  {
   "cell_type": "markdown",
   "metadata": {},
   "source": [
    "# NTDS'18 milestone 1: network collection and properties\n",
    "[Effrosyni Simou](https://lts4.epfl.ch/simou), [EPFL LTS4](https://lts4.epfl.ch)"
   ]
  },
  {
   "cell_type": "markdown",
   "metadata": {},
   "source": [
    "## Students\n",
    "\n",
    "* Team: 12\n",
    "* Students: Arnaud Duvieusart, Franck Dessimoz, Omar Boujdaria and Adrien Vandenbroucque\n",
    "* Dataset: Flight Routes"
   ]
  },
  {
   "cell_type": "markdown",
   "metadata": {},
   "source": [
    "## Rules\n",
    "\n",
    "* Milestones have to be completed by teams. No collaboration between teams is allowed.\n",
    "* Textual answers shall be short. Typically one to three sentences.\n",
    "* Code has to be clean.\n",
    "* You cannot import any other library than we imported.\n",
    "* When submitting, the notebook is executed and the results are stored. I.e., if you open the notebook again it should show numerical results and plots. We won't be able to execute your notebooks.\n",
    "* The notebook is re-executed from a blank state before submission. That is to be sure it is reproducible. You can click \"Kernel\" then \"Restart & Run All\" in Jupyter."
   ]
  },
  {
   "cell_type": "markdown",
   "metadata": {},
   "source": [
    "## Objective "
   ]
  },
  {
   "cell_type": "markdown",
   "metadata": {},
   "source": [
    "The purpose of this milestone is to start getting acquainted to the network that you will use for this class. In the first part of the milestone you will import your data using [Pandas](http://pandas.pydata.org) and you will create the adjacency matrix using [Numpy](http://www.numpy.org). This part is project specific. In the second part you will have to compute some basic properties of your network. **For the computation of the properties you are only allowed to use the packages that have been imported in the cell below.** You are not allowed to use any graph-specific toolboxes for this milestone (such as networkx and PyGSP). Furthermore, the aim is not to blindly compute the network properties, but to also start to think about what kind of network you will be working with this semester. "
   ]
  },
  {
   "cell_type": "code",
   "execution_count": 1,
   "metadata": {},
   "outputs": [],
   "source": [
    "%matplotlib inline\n",
    "\n",
    "import numpy as np\n",
    "import pandas as pd\n",
    "import matplotlib.pyplot as plt"
   ]
  },
  {
   "cell_type": "markdown",
   "metadata": {},
   "source": [
    "## Part 1 - Import your data and manipulate them. "
   ]
  },
  {
   "cell_type": "markdown",
   "metadata": {},
   "source": [
    "###  A. Load your data in a Panda dataframe."
   ]
  },
  {
   "cell_type": "markdown",
   "metadata": {},
   "source": [
    "First, you should define and understand what are your nodes, what features you have and what are your labels. Please provide below a Panda dataframe where each row corresponds to a node with its features and labels. For example, in the the case of the Free Music Archive (FMA) Project, each row of the dataframe would be of the following form:\n",
    "\n",
    "\n",
    "| Track   |  Feature 1  | Feature 2 | . . . | Feature 518|  Label 1 |  Label 2 |. . .|Label 16|\n",
    "|:-------:|:-----------:|:---------:|:-----:|:----------:|:--------:|:--------:|:---:|:------:|\n",
    "|         |             |           |       |            |          |          |     |        |\n",
    "\n",
    "It is possible that in some of the projects either the features or the labels are not available. This is OK, in that case just make sure that you create a dataframe where each of the rows corresponds to a node and its associated features or labels."
   ]
  },
  {
   "cell_type": "code",
   "execution_count": 2,
   "metadata": {},
   "outputs": [],
   "source": [
    "# the pandas dataframe with the features and labels\n",
    "features = pd.read_csv('routes.dat', header=None)"
   ]
  },
  {
   "cell_type": "code",
   "execution_count": 3,
   "metadata": {},
   "outputs": [],
   "source": [
    "features.columns = ['Airline','Airline ID',\n",
    "'Source airport',\n",
    "'Source airport ID',\n",
    "'Destination airport',\n",
    "'Destination airport ID',\n",
    "'Codeshare',\n",
    "'Stops',\n",
    "'Equipment']"
   ]
  },
  {
   "cell_type": "code",
   "execution_count": 4,
   "metadata": {
    "scrolled": true
   },
   "outputs": [
    {
     "data": {
      "text/html": [
       "<div>\n",
       "<style scoped>\n",
       "    .dataframe tbody tr th:only-of-type {\n",
       "        vertical-align: middle;\n",
       "    }\n",
       "\n",
       "    .dataframe tbody tr th {\n",
       "        vertical-align: top;\n",
       "    }\n",
       "\n",
       "    .dataframe thead th {\n",
       "        text-align: right;\n",
       "    }\n",
       "</style>\n",
       "<table border=\"1\" class=\"dataframe\">\n",
       "  <thead>\n",
       "    <tr style=\"text-align: right;\">\n",
       "      <th></th>\n",
       "      <th>Airline</th>\n",
       "      <th>Airline ID</th>\n",
       "      <th>Source airport</th>\n",
       "      <th>Source airport ID</th>\n",
       "      <th>Destination airport</th>\n",
       "      <th>Destination airport ID</th>\n",
       "      <th>Codeshare</th>\n",
       "      <th>Stops</th>\n",
       "      <th>Equipment</th>\n",
       "    </tr>\n",
       "  </thead>\n",
       "  <tbody>\n",
       "    <tr>\n",
       "      <th>0</th>\n",
       "      <td>2B</td>\n",
       "      <td>410</td>\n",
       "      <td>AER</td>\n",
       "      <td>2965</td>\n",
       "      <td>KZN</td>\n",
       "      <td>2990</td>\n",
       "      <td>NaN</td>\n",
       "      <td>0</td>\n",
       "      <td>CR2</td>\n",
       "    </tr>\n",
       "    <tr>\n",
       "      <th>1</th>\n",
       "      <td>2B</td>\n",
       "      <td>410</td>\n",
       "      <td>ASF</td>\n",
       "      <td>2966</td>\n",
       "      <td>KZN</td>\n",
       "      <td>2990</td>\n",
       "      <td>NaN</td>\n",
       "      <td>0</td>\n",
       "      <td>CR2</td>\n",
       "    </tr>\n",
       "    <tr>\n",
       "      <th>2</th>\n",
       "      <td>2B</td>\n",
       "      <td>410</td>\n",
       "      <td>ASF</td>\n",
       "      <td>2966</td>\n",
       "      <td>MRV</td>\n",
       "      <td>2962</td>\n",
       "      <td>NaN</td>\n",
       "      <td>0</td>\n",
       "      <td>CR2</td>\n",
       "    </tr>\n",
       "    <tr>\n",
       "      <th>3</th>\n",
       "      <td>2B</td>\n",
       "      <td>410</td>\n",
       "      <td>CEK</td>\n",
       "      <td>2968</td>\n",
       "      <td>KZN</td>\n",
       "      <td>2990</td>\n",
       "      <td>NaN</td>\n",
       "      <td>0</td>\n",
       "      <td>CR2</td>\n",
       "    </tr>\n",
       "    <tr>\n",
       "      <th>4</th>\n",
       "      <td>2B</td>\n",
       "      <td>410</td>\n",
       "      <td>CEK</td>\n",
       "      <td>2968</td>\n",
       "      <td>OVB</td>\n",
       "      <td>4078</td>\n",
       "      <td>NaN</td>\n",
       "      <td>0</td>\n",
       "      <td>CR2</td>\n",
       "    </tr>\n",
       "  </tbody>\n",
       "</table>\n",
       "</div>"
      ],
      "text/plain": [
       "  Airline Airline ID Source airport Source airport ID Destination airport  \\\n",
       "0      2B        410            AER              2965                 KZN   \n",
       "1      2B        410            ASF              2966                 KZN   \n",
       "2      2B        410            ASF              2966                 MRV   \n",
       "3      2B        410            CEK              2968                 KZN   \n",
       "4      2B        410            CEK              2968                 OVB   \n",
       "\n",
       "  Destination airport ID Codeshare  Stops Equipment  \n",
       "0                   2990       NaN      0       CR2  \n",
       "1                   2990       NaN      0       CR2  \n",
       "2                   2962       NaN      0       CR2  \n",
       "3                   2990       NaN      0       CR2  \n",
       "4                   4078       NaN      0       CR2  "
      ]
     },
     "execution_count": 4,
     "metadata": {},
     "output_type": "execute_result"
    }
   ],
   "source": [
    "features.head()"
   ]
  },
  {
   "cell_type": "markdown",
   "metadata": {},
   "source": [
    "***We can see we have \\\\N as nan values.***"
   ]
  },
  {
   "cell_type": "code",
   "execution_count": 5,
   "metadata": {},
   "outputs": [
    {
     "data": {
      "text/plain": [
       "(220, 221)"
      ]
     },
     "execution_count": 5,
     "metadata": {},
     "output_type": "execute_result"
    }
   ],
   "source": [
    "len(features[features['Source airport ID'] == '\\\\N']) , len(features[features['Destination airport ID'] == '\\\\N'])"
   ]
  },
  {
   "cell_type": "markdown",
   "metadata": {},
   "source": [
    "### B. Create the adjacency matrix of your network."
   ]
  },
  {
   "cell_type": "markdown",
   "metadata": {},
   "source": [
    "Remember that there are edges connecting the attributed nodes that you organized in the dataframe above. The connectivity of the network is captured by the adjacency matrix $W$. If $N$ is the number of nodes, the adjacency matrix is an $N \\times N$ matrix where the value of $W(i,j)$ is the weight of the edge connecting node $i$ to node $j$.  \n",
    "\n",
    "There are two possible scenarios for your adjacency matrix construction, as you already learned in the tutorial by Benjamin:\n",
    "\n",
    "1) The edges are given to you explicitly. In this case you should simply load the file containing the edge information and parse it in order to create your adjacency matrix. See how to do that in the  [graph from edge list]() demo.\n",
    "\n",
    "2) The edges are not given to you. In that case you will have to create a feature graph. In order to do that you will have to chose a distance that will quantify how similar two nodes are based on the values in their corresponding feature vectors. In the [graph from features]() demo Benjamin showed you how to build feature graphs when using Euclidean distances between feature vectors. Be curious and explore other distances as well! For instance, in the case of high-dimensional feature vectors, you might want to consider using the cosine distance. Once you compute the distances between your nodes you will have a fully connected network. Do not forget to sparsify by keeping the most important edges in your network.\n",
    "\n",
    "Follow the appropriate steps for the construction of the adjacency matrix of your network and provide it in the Numpy array ``adjacency`` below: "
   ]
  },
  {
   "cell_type": "code",
   "execution_count": 6,
   "metadata": {},
   "outputs": [],
   "source": [
    "def to_int(y):\n",
    "    if y == '\\\\N':\n",
    "        return np.nan\n",
    "    else :\n",
    "        return int(y)"
   ]
  },
  {
   "cell_type": "code",
   "execution_count": 7,
   "metadata": {},
   "outputs": [],
   "source": [
    "# turn needed object columns to int\n",
    "features['Source airport ID'] = features['Source airport ID'].apply(to_int)\n",
    "features['Destination airport ID'] = features['Destination airport ID'].apply(to_int)"
   ]
  },
  {
   "cell_type": "code",
   "execution_count": 8,
   "metadata": {},
   "outputs": [],
   "source": [
    "# drop nan values from both columns\n",
    "features.dropna(axis=0, subset=['Source airport ID', 'Destination airport ID'], inplace=True)"
   ]
  },
  {
   "cell_type": "code",
   "execution_count": 9,
   "metadata": {},
   "outputs": [],
   "source": [
    "# reset index of nodes\n",
    "a = features['Source airport ID'].unique().tolist()\n",
    "b = features['Destination airport ID'].unique().tolist()\n",
    "nodes = list(set().union(a,b))"
   ]
  },
  {
   "cell_type": "code",
   "execution_count": 10,
   "metadata": {},
   "outputs": [],
   "source": [
    "# dict from nodes to index\n",
    "ID_to_nodes = {elem : i  for i,elem in enumerate(nodes) }\n",
    "nodes_to_ID = {v : k for k, v in ID_to_nodes.items()}"
   ]
  },
  {
   "cell_type": "code",
   "execution_count": 11,
   "metadata": {},
   "outputs": [
    {
     "data": {
      "text/html": [
       "<div>\n",
       "<style scoped>\n",
       "    .dataframe tbody tr th:only-of-type {\n",
       "        vertical-align: middle;\n",
       "    }\n",
       "\n",
       "    .dataframe tbody tr th {\n",
       "        vertical-align: top;\n",
       "    }\n",
       "\n",
       "    .dataframe thead th {\n",
       "        text-align: right;\n",
       "    }\n",
       "</style>\n",
       "<table border=\"1\" class=\"dataframe\">\n",
       "  <thead>\n",
       "    <tr style=\"text-align: right;\">\n",
       "      <th></th>\n",
       "      <th>Airline</th>\n",
       "      <th>Airline ID</th>\n",
       "      <th>Source airport</th>\n",
       "      <th>Source airport ID</th>\n",
       "      <th>Destination airport</th>\n",
       "      <th>Destination airport ID</th>\n",
       "      <th>Codeshare</th>\n",
       "      <th>Stops</th>\n",
       "      <th>Equipment</th>\n",
       "    </tr>\n",
       "  </thead>\n",
       "  <tbody>\n",
       "    <tr>\n",
       "      <th>0</th>\n",
       "      <td>2B</td>\n",
       "      <td>410</td>\n",
       "      <td>AER</td>\n",
       "      <td>2965.0</td>\n",
       "      <td>KZN</td>\n",
       "      <td>2990.0</td>\n",
       "      <td>NaN</td>\n",
       "      <td>0</td>\n",
       "      <td>CR2</td>\n",
       "    </tr>\n",
       "    <tr>\n",
       "      <th>1</th>\n",
       "      <td>2B</td>\n",
       "      <td>410</td>\n",
       "      <td>ASF</td>\n",
       "      <td>2966.0</td>\n",
       "      <td>KZN</td>\n",
       "      <td>2990.0</td>\n",
       "      <td>NaN</td>\n",
       "      <td>0</td>\n",
       "      <td>CR2</td>\n",
       "    </tr>\n",
       "    <tr>\n",
       "      <th>2</th>\n",
       "      <td>2B</td>\n",
       "      <td>410</td>\n",
       "      <td>ASF</td>\n",
       "      <td>2966.0</td>\n",
       "      <td>MRV</td>\n",
       "      <td>2962.0</td>\n",
       "      <td>NaN</td>\n",
       "      <td>0</td>\n",
       "      <td>CR2</td>\n",
       "    </tr>\n",
       "    <tr>\n",
       "      <th>3</th>\n",
       "      <td>2B</td>\n",
       "      <td>410</td>\n",
       "      <td>CEK</td>\n",
       "      <td>2968.0</td>\n",
       "      <td>KZN</td>\n",
       "      <td>2990.0</td>\n",
       "      <td>NaN</td>\n",
       "      <td>0</td>\n",
       "      <td>CR2</td>\n",
       "    </tr>\n",
       "    <tr>\n",
       "      <th>4</th>\n",
       "      <td>2B</td>\n",
       "      <td>410</td>\n",
       "      <td>CEK</td>\n",
       "      <td>2968.0</td>\n",
       "      <td>OVB</td>\n",
       "      <td>4078.0</td>\n",
       "      <td>NaN</td>\n",
       "      <td>0</td>\n",
       "      <td>CR2</td>\n",
       "    </tr>\n",
       "  </tbody>\n",
       "</table>\n",
       "</div>"
      ],
      "text/plain": [
       "  Airline Airline ID Source airport  Source airport ID Destination airport  \\\n",
       "0      2B        410            AER             2965.0                 KZN   \n",
       "1      2B        410            ASF             2966.0                 KZN   \n",
       "2      2B        410            ASF             2966.0                 MRV   \n",
       "3      2B        410            CEK             2968.0                 KZN   \n",
       "4      2B        410            CEK             2968.0                 OVB   \n",
       "\n",
       "   Destination airport ID Codeshare  Stops Equipment  \n",
       "0                  2990.0       NaN      0       CR2  \n",
       "1                  2990.0       NaN      0       CR2  \n",
       "2                  2962.0       NaN      0       CR2  \n",
       "3                  2990.0       NaN      0       CR2  \n",
       "4                  4078.0       NaN      0       CR2  "
      ]
     },
     "execution_count": 11,
     "metadata": {},
     "output_type": "execute_result"
    }
   ],
   "source": [
    "features.head()"
   ]
  },
  {
   "cell_type": "code",
   "execution_count": 12,
   "metadata": {},
   "outputs": [
    {
     "data": {
      "text/html": [
       "<div>\n",
       "<style scoped>\n",
       "    .dataframe tbody tr th:only-of-type {\n",
       "        vertical-align: middle;\n",
       "    }\n",
       "\n",
       "    .dataframe tbody tr th {\n",
       "        vertical-align: top;\n",
       "    }\n",
       "\n",
       "    .dataframe thead th {\n",
       "        text-align: right;\n",
       "    }\n",
       "</style>\n",
       "<table border=\"1\" class=\"dataframe\">\n",
       "  <thead>\n",
       "    <tr style=\"text-align: right;\">\n",
       "      <th></th>\n",
       "      <th>Airline</th>\n",
       "      <th>Airline ID</th>\n",
       "      <th>Source airport</th>\n",
       "      <th>Source airport ID</th>\n",
       "      <th>Destination airport</th>\n",
       "      <th>Destination airport ID</th>\n",
       "      <th>Codeshare</th>\n",
       "      <th>Stops</th>\n",
       "      <th>Equipment</th>\n",
       "    </tr>\n",
       "  </thead>\n",
       "  <tbody>\n",
       "    <tr>\n",
       "      <th>0</th>\n",
       "      <td>2B</td>\n",
       "      <td>410</td>\n",
       "      <td>AER</td>\n",
       "      <td>1538</td>\n",
       "      <td>KZN</td>\n",
       "      <td>1556</td>\n",
       "      <td>NaN</td>\n",
       "      <td>0</td>\n",
       "      <td>CR2</td>\n",
       "    </tr>\n",
       "    <tr>\n",
       "      <th>1</th>\n",
       "      <td>2B</td>\n",
       "      <td>410</td>\n",
       "      <td>ASF</td>\n",
       "      <td>1539</td>\n",
       "      <td>KZN</td>\n",
       "      <td>1556</td>\n",
       "      <td>NaN</td>\n",
       "      <td>0</td>\n",
       "      <td>CR2</td>\n",
       "    </tr>\n",
       "    <tr>\n",
       "      <th>2</th>\n",
       "      <td>2B</td>\n",
       "      <td>410</td>\n",
       "      <td>ASF</td>\n",
       "      <td>1539</td>\n",
       "      <td>MRV</td>\n",
       "      <td>1535</td>\n",
       "      <td>NaN</td>\n",
       "      <td>0</td>\n",
       "      <td>CR2</td>\n",
       "    </tr>\n",
       "    <tr>\n",
       "      <th>3</th>\n",
       "      <td>2B</td>\n",
       "      <td>410</td>\n",
       "      <td>CEK</td>\n",
       "      <td>1541</td>\n",
       "      <td>KZN</td>\n",
       "      <td>1556</td>\n",
       "      <td>NaN</td>\n",
       "      <td>0</td>\n",
       "      <td>CR2</td>\n",
       "    </tr>\n",
       "    <tr>\n",
       "      <th>4</th>\n",
       "      <td>2B</td>\n",
       "      <td>410</td>\n",
       "      <td>CEK</td>\n",
       "      <td>1541</td>\n",
       "      <td>OVB</td>\n",
       "      <td>2178</td>\n",
       "      <td>NaN</td>\n",
       "      <td>0</td>\n",
       "      <td>CR2</td>\n",
       "    </tr>\n",
       "  </tbody>\n",
       "</table>\n",
       "</div>"
      ],
      "text/plain": [
       "  Airline Airline ID Source airport  Source airport ID Destination airport  \\\n",
       "0      2B        410            AER               1538                 KZN   \n",
       "1      2B        410            ASF               1539                 KZN   \n",
       "2      2B        410            ASF               1539                 MRV   \n",
       "3      2B        410            CEK               1541                 KZN   \n",
       "4      2B        410            CEK               1541                 OVB   \n",
       "\n",
       "   Destination airport ID Codeshare  Stops Equipment  \n",
       "0                    1556       NaN      0       CR2  \n",
       "1                    1556       NaN      0       CR2  \n",
       "2                    1535       NaN      0       CR2  \n",
       "3                    1556       NaN      0       CR2  \n",
       "4                    2178       NaN      0       CR2  "
      ]
     },
     "execution_count": 12,
     "metadata": {},
     "output_type": "execute_result"
    }
   ],
   "source": [
    "# fill both columns with new IDs\n",
    "features['Source airport ID'] = features['Source airport ID'].apply(lambda x : ID_to_nodes[x])\n",
    "features['Destination airport ID'] = features['Destination airport ID'].apply(lambda x : ID_to_nodes[x])\n",
    "\n",
    "features.head()"
   ]
  },
  {
   "cell_type": "code",
   "execution_count": 13,
   "metadata": {},
   "outputs": [],
   "source": [
    "#Airports are the nodes\n",
    "n_nodes = len(nodes)\n",
    "adjacency = np.zeros((n_nodes, n_nodes))"
   ]
  },
  {
   "cell_type": "code",
   "execution_count": 14,
   "metadata": {
    "scrolled": true
   },
   "outputs": [],
   "source": [
    "for idx, row in features.iterrows():\n",
    "    ra = row['Source airport ID']\n",
    "    rb = row['Destination airport ID']\n",
    "    i, j = ra, rb\n",
    "    adjacency[i, j] = 1.0"
   ]
  },
  {
   "cell_type": "code",
   "execution_count": 15,
   "metadata": {},
   "outputs": [
    {
     "data": {
      "text/plain": [
       "0.0033613793974154333"
      ]
     },
     "execution_count": 15,
     "metadata": {},
     "output_type": "execute_result"
    }
   ],
   "source": [
    "adjacency.mean()"
   ]
  },
  {
   "cell_type": "code",
   "execution_count": 16,
   "metadata": {},
   "outputs": [
    {
     "data": {
      "text/plain": [
       "Airline                   object\n",
       "Airline ID                object\n",
       "Source airport            object\n",
       "Source airport ID          int64\n",
       "Destination airport       object\n",
       "Destination airport ID     int64\n",
       "Codeshare                 object\n",
       "Stops                      int64\n",
       "Equipment                 object\n",
       "dtype: object"
      ]
     },
     "execution_count": 16,
     "metadata": {},
     "output_type": "execute_result"
    }
   ],
   "source": [
    "features.dtypes"
   ]
  },
  {
   "cell_type": "markdown",
   "metadata": {},
   "source": [
    "## Part 2"
   ]
  },
  {
   "cell_type": "markdown",
   "metadata": {},
   "source": [
    "Execute the cell below to plot the (weighted) adjacency matrix of your network."
   ]
  },
  {
   "cell_type": "code",
   "execution_count": 17,
   "metadata": {},
   "outputs": [
    {
     "data": {
      "text/plain": [
       "Text(0.5,1.05,'adjacency matrix')"
      ]
     },
     "execution_count": 17,
     "metadata": {},
     "output_type": "execute_result"
    },
    {
     "data": {
      "image/png": "[encoded data removed]",
      "text/plain": [
       "<Figure size 1440x720 with 1 Axes>"
      ]
     },
     "metadata": {},
     "output_type": "display_data"
    }
   ],
   "source": [
    "plt.figure(figsize=(20,10))\n",
    "plt.spy(adjacency, markersize=1)\n",
    "plt.title('adjacency matrix')"
   ]
  },
  {
   "cell_type": "markdown",
   "metadata": {},
   "source": [
    "### Question 1\n",
    "\n",
    "What is the maximum number of links $L_{max}$ in a network with $N$ nodes (where $N$ is the number of nodes in your network)? How many links $L$ are there in your collected network? Comment on the sparsity of your network."
   ]
  },
  {
   "cell_type": "code",
   "execution_count": 18,
   "metadata": {},
   "outputs": [
    {
     "data": {
      "text/plain": [
       "3330"
      ]
     },
     "execution_count": 18,
     "metadata": {},
     "output_type": "execute_result"
    }
   ],
   "source": [
    "n_nodes"
   ]
  },
  {
   "cell_type": "code",
   "execution_count": 19,
   "metadata": {},
   "outputs": [
    {
     "data": {
      "text/plain": [
       "(37274.0, 5542785.0, 0.006724778247758122)"
      ]
     },
     "execution_count": 19,
     "metadata": {},
     "output_type": "execute_result"
    }
   ],
   "source": [
    "L_max = n_nodes*(n_nodes-1)/2\n",
    "L = np.sum(adjacency)\n",
    "\n",
    "L, L_max, L/L_max"
   ]
  },
  {
   "cell_type": "markdown",
   "metadata": {},
   "source": [
    "***We can see that the maximum number of links is very high (5.5 millions of links) where as the actual number of links in our network is much lower (37000). The network is sparse since L << L_max. ***"
   ]
  },
  {
   "cell_type": "markdown",
   "metadata": {},
   "source": [
    "### Question 2\n",
    "\n",
    "Is your graph directed or undirected? If it is directed, convert it to an undirected graph by symmetrizing the adjacency matrix."
   ]
  },
  {
   "cell_type": "markdown",
   "metadata": {},
   "source": [
    "***Here the graph is directed, since a flight route has departure and destination point : one way flight.***"
   ]
  },
  {
   "cell_type": "code",
   "execution_count": 20,
   "metadata": {},
   "outputs": [],
   "source": [
    "#Converting directed graph to undirected\n",
    "adjacency = np.maximum(adjacency, adjacency.T)"
   ]
  },
  {
   "cell_type": "markdown",
   "metadata": {},
   "source": [
    "### Question 3\n",
    "\n",
    "In the cell below save the features dataframe and the **symmetrized** adjacency matrix. You can use the Pandas ``to_csv`` to save the ``features`` and Numpy's ``save`` to save the ``adjacency``. We will reuse those in the following milestones."
   ]
  },
  {
   "cell_type": "code",
   "execution_count": 21,
   "metadata": {},
   "outputs": [],
   "source": [
    "np.save('adj',adjacency)\n",
    "features.to_csv('Features.csv')"
   ]
  },
  {
   "cell_type": "markdown",
   "metadata": {},
   "source": [
    "### Question 4\n",
    "\n",
    "Are the edges of your graph weighted?"
   ]
  },
  {
   "cell_type": "markdown",
   "metadata": {},
   "source": [
    "***No, they only represent connections. Depending on what we'll work, we may add proper weights.***"
   ]
  },
  {
   "cell_type": "markdown",
   "metadata": {},
   "source": [
    "### Question 5\n",
    "\n",
    "What is the degree distibution of your network? "
   ]
  },
  {
   "cell_type": "code",
   "execution_count": 22,
   "metadata": {},
   "outputs": [],
   "source": [
    "# Your code here. It should be a numpy array.\n",
    "degree = adjacency.sum(axis=0) \n",
    "\n",
    "assert len(degree) == n_nodes"
   ]
  },
  {
   "cell_type": "markdown",
   "metadata": {},
   "source": [
    "Execute the cell below to see the histogram of the degree distribution."
   ]
  },
  {
   "cell_type": "code",
   "execution_count": 23,
   "metadata": {},
   "outputs": [
    {
     "data": {
      "image/png": "[encoded data removed]",
      "text/plain": [
       "<Figure size 432x288 with 2 Axes>"
      ]
     },
     "metadata": {},
     "output_type": "display_data"
    }
   ],
   "source": [
    "# weights = np.ones_like(degree) / float(n_nodes)\n",
    "# plt.hist(degree, weights=weights);\n",
    "\n",
    "weights = np.ones_like(degree) / float(n_nodes)\n",
    "plt.subplot(1, 2, 1)\n",
    "plt.hist(degree, weights=weights, bins = 50);\n",
    "plt.xlabel('Degree')\n",
    "plt.ylabel('Proportion')\n",
    "plt.plot()\n",
    "\n",
    "plt.subplot(1, 2, 2)\n",
    "plt.hist(degree, weights=weights, bins = 50, log = True);\n",
    "plt.xlabel('Degree')\n",
    "plt.ylabel('Proportion')\n",
    "plt.plot()\n",
    "\n",
    "plt.show()"
   ]
  },
  {
   "cell_type": "markdown",
   "metadata": {},
   "source": [
    "What is the average degree?"
   ]
  },
  {
   "cell_type": "code",
   "execution_count": 24,
   "metadata": {},
   "outputs": [
    {
     "data": {
      "text/plain": [
       "11.459159159159158"
      ]
     },
     "execution_count": 24,
     "metadata": {},
     "output_type": "execute_result"
    }
   ],
   "source": [
    "#average degree\n",
    "degree.mean()"
   ]
  },
  {
   "cell_type": "markdown",
   "metadata": {},
   "source": [
    "### Question 6\n",
    "\n",
    "Comment on the degree distribution of your network."
   ]
  },
  {
   "cell_type": "markdown",
   "metadata": {},
   "source": [
    "**On the above histograms, we can see that more than 80% of the nodes have a degree between 0 and 10 and it decays following a power low.**"
   ]
  },
  {
   "cell_type": "markdown",
   "metadata": {},
   "source": [
    "### Question 7\n",
    "\n",
    "Write a function that takes as input the adjacency matrix of a graph and determines whether the graph is connected or not."
   ]
  },
  {
   "cell_type": "code",
   "execution_count": 25,
   "metadata": {},
   "outputs": [],
   "source": [
    "def dfs(graph, node, visited):\n",
    "    if visited[node] == 0:\n",
    "        visited[node] = 1\n",
    "    for i,n in enumerate(graph[node]):\n",
    "        if n==1 and visited[i]==0:\n",
    "            dfs(graph,i, visited)\n",
    "    return visited"
   ]
  },
  {
   "cell_type": "code",
   "execution_count": 26,
   "metadata": {},
   "outputs": [],
   "source": [
    "def connected_graph(adjacency, start = 0):\n",
    "    \"\"\"Determines whether a graph is connected.\n",
    "    \n",
    "    Parameters\n",
    "    ----------\n",
    "    adjacency: numpy array\n",
    "        The (weighted) adjacency matrix of a graph.\n",
    "    \n",
    "    Returns\n",
    "    -------\n",
    "    bool\n",
    "        True if the graph is connected, False otherwise.\n",
    "    \"\"\"\n",
    "\n",
    "    \n",
    "\n",
    "    visited = np.zeros(adjacency.shape[0])\n",
    "    visited = dfs(adjacency,start,visited)\n",
    "    \n",
    "    connected = visited.mean()==1\n",
    "    \n",
    "    return connected#, visited"
   ]
  },
  {
   "cell_type": "markdown",
   "metadata": {},
   "source": [
    "Is your graph connected? Run the ``connected_graph`` function to determine your answer."
   ]
  },
  {
   "cell_type": "code",
   "execution_count": 27,
   "metadata": {},
   "outputs": [
    {
     "data": {
      "text/plain": [
       "False"
      ]
     },
     "execution_count": 27,
     "metadata": {},
     "output_type": "execute_result"
    }
   ],
   "source": [
    "connected_graph(adjacency)"
   ]
  },
  {
   "cell_type": "markdown",
   "metadata": {},
   "source": [
    "***To justify this, we print the index of nodes that have not been visited. Yet we can check in the features to understand this data.***"
   ]
  },
  {
   "cell_type": "code",
   "execution_count": 28,
   "metadata": {},
   "outputs": [],
   "source": [
    "visited = dfs(adjacency, 0, np.zeros(adjacency.shape[0]))"
   ]
  },
  {
   "cell_type": "code",
   "execution_count": 29,
   "metadata": {},
   "outputs": [
    {
     "data": {
      "text/plain": [
       "(array([1043, 1044, 1045, 1046, 1047, 1048, 1049, 1962, 2029, 2515, 2517,\n",
       "        2562, 2674, 2675, 2676, 2790, 2995, 2996, 3064, 3131, 3132, 3210,\n",
       "        3211, 3248, 3249, 3307]),)"
      ]
     },
     "execution_count": 29,
     "metadata": {},
     "output_type": "execute_result"
    }
   ],
   "source": [
    "np.where(visited == 0)"
   ]
  },
  {
   "cell_type": "markdown",
   "metadata": {},
   "source": [
    "***We invetigate airports 2995  and 2996, respectively BLD and GCW.***"
   ]
  },
  {
   "cell_type": "code",
   "execution_count": 30,
   "metadata": {},
   "outputs": [
    {
     "data": {
      "text/html": [
       "<div>\n",
       "<style scoped>\n",
       "    .dataframe tbody tr th:only-of-type {\n",
       "        vertical-align: middle;\n",
       "    }\n",
       "\n",
       "    .dataframe tbody tr th {\n",
       "        vertical-align: top;\n",
       "    }\n",
       "\n",
       "    .dataframe thead th {\n",
       "        text-align: right;\n",
       "    }\n",
       "</style>\n",
       "<table border=\"1\" class=\"dataframe\">\n",
       "  <thead>\n",
       "    <tr style=\"text-align: right;\">\n",
       "      <th></th>\n",
       "      <th>Airline</th>\n",
       "      <th>Airline ID</th>\n",
       "      <th>Source airport</th>\n",
       "      <th>Source airport ID</th>\n",
       "      <th>Destination airport</th>\n",
       "      <th>Destination airport ID</th>\n",
       "      <th>Codeshare</th>\n",
       "      <th>Stops</th>\n",
       "      <th>Equipment</th>\n",
       "    </tr>\n",
       "  </thead>\n",
       "  <tbody>\n",
       "    <tr>\n",
       "      <th>30855</th>\n",
       "      <td>HI</td>\n",
       "      <td>16625</td>\n",
       "      <td>BLD</td>\n",
       "      <td>2996</td>\n",
       "      <td>GCW</td>\n",
       "      <td>2995</td>\n",
       "      <td>NaN</td>\n",
       "      <td>0</td>\n",
       "      <td>BH2</td>\n",
       "    </tr>\n",
       "    <tr>\n",
       "      <th>30856</th>\n",
       "      <td>HI</td>\n",
       "      <td>16625</td>\n",
       "      <td>GCW</td>\n",
       "      <td>2995</td>\n",
       "      <td>BLD</td>\n",
       "      <td>2996</td>\n",
       "      <td>NaN</td>\n",
       "      <td>0</td>\n",
       "      <td>BH2</td>\n",
       "    </tr>\n",
       "  </tbody>\n",
       "</table>\n",
       "</div>"
      ],
      "text/plain": [
       "      Airline Airline ID Source airport  Source airport ID  \\\n",
       "30855      HI      16625            BLD               2996   \n",
       "30856      HI      16625            GCW               2995   \n",
       "\n",
       "      Destination airport  Destination airport ID Codeshare  Stops Equipment  \n",
       "30855                 GCW                    2995       NaN      0       BH2  \n",
       "30856                 BLD                    2996       NaN      0       BH2  "
      ]
     },
     "execution_count": 30,
     "metadata": {},
     "output_type": "execute_result"
    }
   ],
   "source": [
    "features[features['Source airport ID'] == 2996].append(features[features['Source airport ID'] == 2995])"
   ]
  },
  {
   "cell_type": "markdown",
   "metadata": {},
   "source": [
    "***We can see that BLD is only reachable from GCW and vice-versa. By looking on a map, we see that GCW is the Grand Canyon West airport and BLD is Boulder airport.***"
   ]
  },
  {
   "cell_type": "markdown",
   "metadata": {},
   "source": [
    "### Question 8\n",
    "\n",
    "Write a function that extracts the connected components of a graph."
   ]
  },
  {
   "cell_type": "code",
   "execution_count": 31,
   "metadata": {},
   "outputs": [],
   "source": [
    "def find_components(adjacency, start = 0):\n",
    "    \"\"\"Find the connected components of a graph.\n",
    "    \n",
    "    Parameters\n",
    "    ----------\n",
    "    adjacency: numpy array\n",
    "        The (weighted) adjacency matrix of a graph.\n",
    "    \n",
    "    Returns\n",
    "    -------\n",
    "    list of numpy arrays\n",
    "        A list of adjacency matrices, one per connected component.\n",
    "    \"\"\"\n",
    "    #base case of the recursion\n",
    "    if adjacency.shape == (0, 0):\n",
    "        return []\n",
    "    \n",
    "    components = []\n",
    "    \n",
    "    visited = np.zeros(adjacency.shape[0])\n",
    "    visited = dfs(adjacency,start,visited)\n",
    "    \n",
    "    visited = visited.astype(bool)\n",
    "    inv_visited = np.invert(visited)\n",
    "        \n",
    "    new = adjacency[:,visited][visited]\n",
    "    remaining = adjacency[:,inv_visited][inv_visited]\n",
    "    components.append(new)\n",
    "\n",
    "    return components + find_components(remaining)"
   ]
  },
  {
   "cell_type": "markdown",
   "metadata": {},
   "source": [
    "How many connected components is your network composed of? What is the size of the largest connected component? Run the ``find_components`` function to determine your answer. "
   ]
  },
  {
   "cell_type": "code",
   "execution_count": 32,
   "metadata": {},
   "outputs": [
    {
     "data": {
      "text/plain": [
       "(7, 3304)"
      ]
     },
     "execution_count": 32,
     "metadata": {},
     "output_type": "execute_result"
    }
   ],
   "source": [
    "connected_components = find_components(adjacency)\n",
    "len_components = [len(c) for c in connected_components]\n",
    "\n",
    "len(connected_components), max(len_components)"
   ]
  },
  {
   "cell_type": "markdown",
   "metadata": {},
   "source": [
    "***The number of components is 7,  the greatest connected component has 3304 nodes (out of 3330).***"
   ]
  },
  {
   "cell_type": "markdown",
   "metadata": {},
   "source": [
    "### Question 9\n",
    "\n",
    "Write a function that takes as input the adjacency matrix and a node (`source`) and returns the length of the shortest path between that node and all nodes in the graph using Dijkstra's algorithm. **For the purposes of this assignment we are interested in the hop distance between nodes, not in the sum of weights. **\n",
    "\n",
    "Hint: You might want to mask the adjacency matrix in the function ``compute_shortest_path_lengths`` in order to make sure you obtain a binary adjacency matrix. "
   ]
  },
  {
   "cell_type": "code",
   "execution_count": 33,
   "metadata": {},
   "outputs": [],
   "source": [
    "def minDistance(dist,queue): \n",
    "    # Initialize min value and min_index as -1 \n",
    "    minimum = np.inf\n",
    "    min_index = -1\n",
    "      \n",
    "    # from the dist array,pick one which \n",
    "    # has min value and is till in queue \n",
    "    for i in range(len(dist)): \n",
    "        if dist[i] < minimum and i in queue: \n",
    "            minimum = dist[i] \n",
    "            min_index = i \n",
    "    return min_index "
   ]
  },
  {
   "cell_type": "code",
   "execution_count": 34,
   "metadata": {},
   "outputs": [],
   "source": [
    "def ShPt(source, node, parent):\n",
    "    if source == node :\n",
    "        return [node]\n",
    "    else:\n",
    "        return ShPt(source, parent[node], parent) + [node]"
   ]
  },
  {
   "cell_type": "code",
   "execution_count": 35,
   "metadata": {},
   "outputs": [],
   "source": [
    "def compute_shortest_path_lengths(graph, src):\n",
    "    \"\"\"Compute the shortest path length between a source node and all nodes.\n",
    "    \n",
    "    Parameters\n",
    "    ----------\n",
    "    adjacency: numpy array\n",
    "        The (weighted) adjacency matrix of a graph.\n",
    "    source: int\n",
    "        The source node. A number between 0 and n_nodes-1.\n",
    "    \n",
    "    Returns\n",
    "    -------\n",
    "    list of ints\n",
    "        The length of the shortest path from source to all nodes. Returned list should be of length n_nodes.\n",
    "    \"\"\"\n",
    "\n",
    "    row = len(graph) \n",
    "    col = len(graph[0]) \n",
    "    \n",
    "    # The output array. dist[i] will hold the shortest distance from src to i \n",
    "    # Initialize all distances as INFINITE  \n",
    "    dist = [np.inf] * row \n",
    "  \n",
    "    #Parent array to store shortest path tree \n",
    "    parent = [-1] * row \n",
    "  \n",
    "    # Distance of source vertex from itself is always 0 \n",
    "    dist[src] = 0\n",
    "  \n",
    "    # Add all vertices in queue \n",
    "    queue = [] \n",
    "    for i in range(row): \n",
    "        queue.append(i) \n",
    "    \n",
    "          \n",
    "    #Find shortest path for all vertices \n",
    "    while queue: \n",
    "  \n",
    "        # Pick the minimum dist vertex from the set of vertices still in queue \n",
    "        u = minDistance(dist,queue)\n",
    "  \n",
    "        # if u == -1, its means we completed the current component, \n",
    "        # every other node left in queue is in other components\n",
    "        if u == -1:\n",
    "            break\n",
    "        # remove min element   \n",
    "        queue.remove(u) \n",
    "  \n",
    "        # Update dist value and parent index of the adjacent vertices of \n",
    "        # the picked vertex. Consider only those vertices which are still in queue \n",
    "        for i in range(col): \n",
    "            '''Update dist[i] only if it is in queue, there is \n",
    "            an edge from u to i, and total weight of path from \n",
    "            src to i through u is smaller than current value of \n",
    "            dist[i]'''\n",
    "            if graph[u][i] and i in queue:\n",
    "                if dist[u] + graph[u][i] < dist[i]:\n",
    "                    dist[i] = dist[u] + graph[u][i]\n",
    "                    parent[i] = u\n",
    "                    \n",
    "    SPl = [ShPt(src, x, parent) if dist[x]!=-1 else [-1] for x in range(row) ]\n",
    "    return list(zip(dist,SPl))"
   ]
  },
  {
   "cell_type": "markdown",
   "metadata": {},
   "source": [
    "### Question 10\n",
    "\n",
    "The diameter of the graph is the length of the longest shortest path between any pair of nodes. Use the above developed function to compute the diameter of the graph (or the diameter of the largest connected component of the graph if the graph is not connected). If your graph (or largest connected component) is very large, computing the diameter will take very long. In that case downsample your graph so that it has 1.000 nodes. There are many ways to reduce the size of a graph. For the purposes of this milestone you can chose to randomly select 1.000 nodes. "
   ]
  },
  {
   "cell_type": "code",
   "execution_count": 36,
   "metadata": {},
   "outputs": [
    {
     "name": "stdout",
     "output_type": "stream",
     "text": [
      "(1000, 1000) (3330, 3330)\n"
     ]
    }
   ],
   "source": [
    "t = [True] *1000\n",
    "f = [False] * (n_nodes-1000)\n",
    "indexes = t+f\n",
    "np.random.shuffle(indexes)\n",
    "\n",
    "sample_adj = adjacency[:,indexes][indexes]\n",
    "print(sample_adj.shape, adjacency.shape)"
   ]
  },
  {
   "cell_type": "code",
   "execution_count": 37,
   "metadata": {},
   "outputs": [
    {
     "name": "stdout",
     "output_type": "stream",
     "text": [
      "False\n"
     ]
    }
   ],
   "source": [
    "print(connected_graph(sample_adj))"
   ]
  },
  {
   "cell_type": "markdown",
   "metadata": {},
   "source": [
    "*** The sampled adjacency matrix will always give a fragmented graph (high number of components), and computing the shortest path to all nodes will result in a high number of \"unreachable nodes\". We therefor test the function on the original adjacency : *** "
   ]
  },
  {
   "cell_type": "code",
   "execution_count": 38,
   "metadata": {
    "scrolled": true
   },
   "outputs": [
    {
     "data": {
      "text/plain": [
       "[(1.0, [3, 0]),\n",
       " (1.0, [3, 1]),\n",
       " (1.0, [3, 2]),\n",
       " (0, [3]),\n",
       " (1.0, [3, 4]),\n",
       " (2.0, [3, 1, 5]),\n",
       " (6.0, [3, 4, 1014, 1840, 1987, 1890, 6]),\n",
       " (6.0, [3, 4, 1014, 1840, 1987, 1890, 7]),\n",
       " (7.0, [3, 4, 1014, 1840, 1987, 1890, 6, 8]),\n",
       " (6.0, [3, 4, 1014, 1840, 1987, 1890, 9])]"
      ]
     },
     "execution_count": 38,
     "metadata": {},
     "output_type": "execute_result"
    }
   ],
   "source": [
    "# The first 10 nodes\n",
    "compute_shortest_path_lengths(adjacency, 3)[:10]"
   ]
  },
  {
   "cell_type": "markdown",
   "metadata": {},
   "source": [
    "***The result is a list of pair (shortest path, shortest path length)***"
   ]
  },
  {
   "cell_type": "code",
   "execution_count": 39,
   "metadata": {},
   "outputs": [],
   "source": [
    "def largest_comp(adjacency):\n",
    "    components = find_components(adjacency)\n",
    "    lengths = [len(c) for c in components]\n",
    "    idx_max = lengths.index(max(lengths))\n",
    "    return components[idx_max]"
   ]
  },
  {
   "cell_type": "code",
   "execution_count": 40,
   "metadata": {},
   "outputs": [],
   "source": [
    "def longest_SP(adjacency,source):\n",
    "    sp = compute_shortest_path_lengths(adjacency,source)\n",
    "    return max(list(map(lambda x : x[0],sp)))"
   ]
  },
  {
   "cell_type": "code",
   "execution_count": 41,
   "metadata": {},
   "outputs": [],
   "source": [
    "def graph_diameter(adjacency):\n",
    "    l_comp = largest_comp(adjacency)\n",
    "    maximum = 0\n",
    "\n",
    "    for i in range(len(l_comp)):\n",
    "        print(i, maximum)\n",
    "        curr = longest_SP(l_comp,i)\n",
    "        if curr > maximum :\n",
    "            maximum = curr\n",
    "\n",
    "    return maximum    "
   ]
  },
  {
   "cell_type": "code",
   "execution_count": null,
   "metadata": {},
   "outputs": [
    {
     "name": "stdout",
     "output_type": "stream",
     "text": [
      "0 0\n",
      "1 8.0\n",
      "2 8.0\n",
      "3 8.0\n",
      "4 9.0\n",
      "5 9.0\n",
      "6 9.0\n",
      "7 9.0\n",
      "8 9.0\n",
      "9 9.0\n",
      "10 9.0\n",
      "11 9.0\n",
      "12 9.0\n",
      "13 9.0\n",
      "14 9.0\n",
      "15 9.0\n",
      "16 9.0\n",
      "17 9.0\n",
      "18 9.0\n",
      "19 9.0\n",
      "20 9.0\n",
      "21 9.0\n",
      "22 9.0\n",
      "23 9.0\n",
      "24 9.0\n",
      "25 9.0\n",
      "26 9.0\n",
      "27 9.0\n",
      "28 9.0\n",
      "29 9.0\n",
      "30 9.0\n",
      "31 9.0\n",
      "32 9.0\n",
      "33 9.0\n",
      "34 9.0\n",
      "35 9.0\n",
      "36 9.0\n",
      "37 9.0\n",
      "38 9.0\n",
      "39 9.0\n",
      "40 9.0\n",
      "41 9.0\n",
      "42 9.0\n",
      "43 9.0\n",
      "44 9.0\n",
      "45 9.0\n",
      "46 11.0\n",
      "47 11.0\n",
      "48 11.0\n",
      "49 11.0\n",
      "50 11.0\n",
      "51 11.0\n",
      "52 11.0\n",
      "53 11.0\n",
      "54 11.0\n",
      "55 11.0\n",
      "56 11.0\n",
      "57 11.0\n",
      "58 11.0\n",
      "59 11.0\n",
      "60 11.0\n",
      "61 11.0\n",
      "62 11.0\n",
      "63 11.0\n",
      "64 11.0\n",
      "65 11.0\n",
      "66 11.0\n",
      "67 11.0\n",
      "68 11.0\n",
      "69 11.0\n",
      "70 11.0\n",
      "71 11.0\n",
      "72 11.0\n",
      "73 11.0\n",
      "74 11.0\n",
      "75 11.0\n",
      "76 11.0\n",
      "77 11.0\n",
      "78 11.0\n",
      "79 11.0\n",
      "80 11.0\n",
      "81 11.0\n",
      "82 11.0\n",
      "83 11.0\n",
      "84 11.0\n",
      "85 11.0\n",
      "86 11.0\n",
      "87 11.0\n",
      "88 11.0\n",
      "89 11.0\n",
      "90 11.0\n",
      "91 11.0\n",
      "92 11.0\n",
      "93 11.0\n",
      "94 11.0\n",
      "95 11.0\n",
      "96 11.0\n",
      "97 11.0\n",
      "98 11.0\n",
      "99 11.0\n",
      "100 11.0\n",
      "101 11.0\n",
      "102 11.0\n",
      "103 11.0\n",
      "104 11.0\n",
      "105 11.0\n",
      "106 11.0\n",
      "107 11.0\n",
      "108 11.0\n",
      "109 11.0\n",
      "110 11.0\n",
      "111 11.0\n",
      "112 11.0\n",
      "113 11.0\n",
      "114 11.0\n",
      "115 11.0\n",
      "116 11.0\n",
      "117 11.0\n",
      "118 11.0\n",
      "119 11.0\n",
      "120 11.0\n",
      "121 11.0\n",
      "122 11.0\n",
      "123 11.0\n",
      "124 11.0\n",
      "125 11.0\n",
      "126 11.0\n",
      "127 11.0\n",
      "128 11.0\n",
      "129 11.0\n",
      "130 11.0\n",
      "131 11.0\n",
      "132 11.0\n",
      "133 11.0\n",
      "134 11.0\n",
      "135 11.0\n",
      "136 11.0\n",
      "137 11.0\n",
      "138 11.0\n",
      "139 11.0\n",
      "140 11.0\n",
      "141 11.0\n",
      "142 11.0\n",
      "143 11.0\n",
      "144 11.0\n",
      "145 11.0\n",
      "146 11.0\n",
      "147 11.0\n",
      "148 11.0\n",
      "149 11.0\n",
      "150 11.0\n",
      "151 11.0\n",
      "152 11.0\n",
      "153 11.0\n",
      "154 11.0\n",
      "155 11.0\n",
      "156 11.0\n",
      "157 11.0\n",
      "158 11.0\n",
      "159 11.0\n",
      "160 11.0\n",
      "161 11.0\n",
      "162 11.0\n",
      "163 11.0\n",
      "164 11.0\n",
      "165 11.0\n",
      "166 11.0\n",
      "167 11.0\n",
      "168 11.0\n",
      "169 11.0\n",
      "170 11.0\n",
      "171 11.0\n",
      "172 11.0\n",
      "173 11.0\n",
      "174 11.0\n",
      "175 11.0\n",
      "176 11.0\n",
      "177 11.0\n",
      "178 11.0\n",
      "179 11.0\n",
      "180 11.0\n",
      "181 11.0\n",
      "182 11.0\n",
      "183 11.0\n",
      "184 11.0\n",
      "185 11.0\n",
      "186 11.0\n",
      "187 11.0\n",
      "188 11.0\n",
      "189 11.0\n",
      "190 11.0\n",
      "191 11.0\n",
      "192 11.0\n",
      "193 11.0\n",
      "194 11.0\n",
      "195 11.0\n",
      "196 11.0\n",
      "197 11.0\n",
      "198 11.0\n",
      "199 11.0\n",
      "200 11.0\n",
      "201 11.0\n",
      "202 11.0\n",
      "203 11.0\n",
      "204 11.0\n",
      "205 11.0\n",
      "206 11.0\n",
      "207 11.0\n",
      "208 11.0\n",
      "209 11.0\n",
      "210 11.0\n",
      "211 11.0\n",
      "212 11.0\n",
      "213 11.0\n",
      "214 11.0\n",
      "215 11.0\n",
      "216 11.0\n",
      "217 11.0\n",
      "218 11.0\n",
      "219 11.0\n",
      "220 11.0\n",
      "221 11.0\n",
      "222 11.0\n",
      "223 11.0\n",
      "224 11.0\n",
      "225 11.0\n",
      "226 11.0\n",
      "227 11.0\n",
      "228 11.0\n",
      "229 11.0\n",
      "230 11.0\n",
      "231 11.0\n",
      "232 11.0\n",
      "233 11.0\n",
      "234 11.0\n",
      "235 11.0\n",
      "236 11.0\n",
      "237 11.0\n",
      "238 11.0\n",
      "239 11.0\n",
      "240 11.0\n",
      "241 11.0\n",
      "242 11.0\n",
      "243 11.0\n",
      "244 11.0\n",
      "245 11.0\n",
      "246 11.0\n",
      "247 11.0\n",
      "248 11.0\n",
      "249 11.0\n",
      "250 11.0\n",
      "251 11.0\n",
      "252 11.0\n",
      "253 11.0\n",
      "254 11.0\n",
      "255 11.0\n",
      "256 11.0\n",
      "257 11.0\n",
      "258 11.0\n",
      "259 11.0\n",
      "260 11.0\n",
      "261 11.0\n",
      "262 11.0\n",
      "263 11.0\n",
      "264 11.0\n",
      "265 11.0\n",
      "266 11.0\n",
      "267 11.0\n",
      "268 11.0\n",
      "269 11.0\n",
      "270 11.0\n",
      "271 11.0\n",
      "272 11.0\n",
      "273 11.0\n",
      "274 11.0\n",
      "275 11.0\n",
      "276 11.0\n",
      "277 11.0\n",
      "278 11.0\n",
      "279 11.0\n",
      "280 11.0\n",
      "281 11.0\n",
      "282 11.0\n",
      "283 11.0\n",
      "284 11.0\n",
      "285 11.0\n",
      "286 11.0\n",
      "287 11.0\n",
      "288 11.0\n",
      "289 11.0\n",
      "290 11.0\n",
      "291 11.0\n",
      "292 11.0\n",
      "293 11.0\n",
      "294 11.0\n",
      "295 11.0\n",
      "296 11.0\n",
      "297 11.0\n",
      "298 11.0\n",
      "299 11.0\n",
      "300 11.0\n",
      "301 11.0\n",
      "302 11.0\n",
      "303 11.0\n",
      "304 11.0\n",
      "305 11.0\n",
      "306 11.0\n",
      "307 11.0\n",
      "308 11.0\n",
      "309 11.0\n",
      "310 11.0\n",
      "311 11.0\n",
      "312 11.0\n",
      "313 11.0\n",
      "314 11.0\n",
      "315 11.0\n",
      "316 11.0\n",
      "317 11.0\n",
      "318 11.0\n",
      "319 11.0\n",
      "320 11.0\n",
      "321 11.0\n",
      "322 11.0\n",
      "323 11.0\n",
      "324 11.0\n",
      "325 11.0\n",
      "326 11.0\n",
      "327 11.0\n",
      "328 11.0\n",
      "329 11.0\n",
      "330 11.0\n",
      "331 11.0\n",
      "332 11.0\n",
      "333 11.0\n",
      "334 11.0\n",
      "335 11.0\n",
      "336 11.0\n",
      "337 11.0\n",
      "338 11.0\n",
      "339 11.0\n",
      "340 11.0\n",
      "341 11.0\n",
      "342 11.0\n",
      "343 11.0\n",
      "344 11.0\n",
      "345 11.0\n",
      "346 11.0\n",
      "347 11.0\n",
      "348 11.0\n",
      "349 11.0\n",
      "350 11.0\n",
      "351 11.0\n",
      "352 11.0\n",
      "353 11.0\n",
      "354 11.0\n",
      "355 11.0\n",
      "356 11.0\n",
      "357 11.0\n",
      "358 11.0\n",
      "359 11.0\n",
      "360 11.0\n",
      "361 11.0\n",
      "362 11.0\n",
      "363 11.0\n",
      "364 11.0\n",
      "365 11.0\n",
      "366 11.0\n",
      "367 11.0\n",
      "368 11.0\n",
      "369 11.0\n",
      "370 11.0\n",
      "371 11.0\n",
      "372 11.0\n",
      "373 11.0\n",
      "374 11.0\n",
      "375 11.0\n",
      "376 11.0\n",
      "377 11.0\n",
      "378 11.0\n",
      "379 11.0\n",
      "380 11.0\n",
      "381 11.0\n",
      "382 11.0\n",
      "383 11.0\n",
      "384 11.0\n",
      "385 11.0\n",
      "386 11.0\n",
      "387 11.0\n",
      "388 11.0\n",
      "389 11.0\n",
      "390 11.0\n",
      "391 11.0\n",
      "392 11.0\n",
      "393 11.0\n",
      "394 11.0\n",
      "395 11.0\n",
      "396 11.0\n",
      "397 11.0\n",
      "398 11.0\n",
      "399 11.0\n",
      "400 11.0\n",
      "401 11.0\n",
      "402 11.0\n",
      "403 11.0\n",
      "404 11.0\n",
      "405 11.0\n",
      "406 11.0\n",
      "407 11.0\n",
      "408 11.0\n",
      "409 11.0\n",
      "410 11.0\n",
      "411 11.0\n",
      "412 11.0\n",
      "413 11.0\n",
      "414 11.0\n",
      "415 11.0\n",
      "416 11.0\n",
      "417 11.0\n",
      "418 11.0\n",
      "419 11.0\n",
      "420 11.0\n",
      "421 11.0\n",
      "422 11.0\n",
      "423 11.0\n",
      "424 11.0\n",
      "425 11.0\n",
      "426 11.0\n",
      "427 11.0\n",
      "428 11.0\n",
      "429 11.0\n",
      "430 11.0\n",
      "431 11.0\n",
      "432 11.0\n",
      "433 11.0\n",
      "434 11.0\n",
      "435 11.0\n",
      "436 11.0\n",
      "437 11.0\n",
      "438 11.0\n",
      "439 11.0\n",
      "440 11.0\n",
      "441 11.0\n",
      "442 11.0\n",
      "443 11.0\n",
      "444 11.0\n",
      "445 11.0\n",
      "446 11.0\n",
      "447 11.0\n",
      "448 11.0\n",
      "449 11.0\n",
      "450 11.0\n",
      "451 11.0\n",
      "452 11.0\n",
      "453 11.0\n",
      "454 11.0\n",
      "455 11.0\n",
      "456 11.0\n",
      "457 11.0\n",
      "458 11.0\n",
      "459 11.0\n",
      "460 11.0\n",
      "461 11.0\n",
      "462 11.0\n",
      "463 11.0\n",
      "464 11.0\n",
      "465 11.0\n",
      "466 11.0\n",
      "467 11.0\n",
      "468 11.0\n",
      "469 11.0\n",
      "470 11.0\n",
      "471 11.0\n",
      "472 11.0\n",
      "473 11.0\n",
      "474 11.0\n",
      "475 11.0\n",
      "476 11.0\n",
      "477 11.0\n",
      "478 11.0\n",
      "479 11.0\n",
      "480 11.0\n",
      "481 11.0\n",
      "482 11.0\n",
      "483 11.0\n",
      "484 11.0\n"
     ]
    }
   ],
   "source": [
    "graph_diameter(sample_adj)"
   ]
  },
  {
   "cell_type": "markdown",
   "metadata": {},
   "source": [
    "### Question 11\n",
    "\n",
    "Write a function that takes as input the adjacency matrix, a path length, and two nodes (`source` and `target`), and returns the number of paths of the given length between them."
   ]
  },
  {
   "cell_type": "code",
   "execution_count": 43,
   "metadata": {},
   "outputs": [],
   "source": [
    "def compute_paths(adjacency, source, target, length):\n",
    "    \"\"\"Compute the number of paths of a given length between a source and target node.\n",
    "    \n",
    "    Parameters\n",
    "    ----------\n",
    "    adjacency: numpy array\n",
    "        The (weighted) adjacency matrix of a graph.\n",
    "    source: int\n",
    "        The source node. A number between 0 and n_nodes-1.\n",
    "    target: int\n",
    "        The target node. A number between 0 and n_nodes-1.\n",
    "    length: int\n",
    "        The path length to be considered.\n",
    "    \n",
    "    Returns\n",
    "    -------\n",
    "    int\n",
    "        The number of paths.\n",
    "    \"\"\"\n",
    "    \n",
    "    adjacency_p = np.linalg.matrix_power(adjacency, length)\n",
    "    return adjacency_p[source][target]"
   ]
  },
  {
   "cell_type": "markdown",
   "metadata": {},
   "source": [
    "Test your function on 5 pairs of nodes, with different lengths."
   ]
  },
  {
   "cell_type": "code",
   "execution_count": 44,
   "metadata": {},
   "outputs": [
    {
     "name": "stdout",
     "output_type": "stream",
     "text": [
      "0.0\n",
      "0.0\n",
      "0.0\n",
      "0.0\n",
      "453.0\n"
     ]
    }
   ],
   "source": [
    "print(compute_paths(adjacency, 0, 10, 1))\n",
    "print(compute_paths(adjacency, 0, 10, 2))\n",
    "print(compute_paths(adjacency, 0, 10, 3))\n",
    "print(compute_paths(adjacency, 23, 67, 2))\n",
    "print(compute_paths(adjacency, 15, 93, 4))"
   ]
  },
  {
   "cell_type": "markdown",
   "metadata": {},
   "source": [
    "### Question 12\n",
    "\n",
    "How many paths of length 3 are there in your graph? Hint: calling the `compute_paths` function on every pair of node is not an efficient way to do it."
   ]
  },
  {
   "cell_type": "markdown",
   "metadata": {
    "collapsed": true
   },
   "source": [
    "***It's the number of entries equal to 3 in the adjacency matrix taken to power 3.***"
   ]
  },
  {
   "cell_type": "code",
   "execution_count": 45,
   "metadata": {},
   "outputs": [
    {
     "data": {
      "text/plain": [
       "158232235.0"
      ]
     },
     "execution_count": 45,
     "metadata": {},
     "output_type": "execute_result"
    }
   ],
   "source": [
    "# We raise the matrix to pow 3.\n",
    "Adj3 = np.linalg.matrix_power(adjacency, 3)\n",
    "# An entry in this matrix represent the number of paths of length 3 between i and j,\n",
    "# we sum all the entries.\n",
    "Adj3.sum()"
   ]
  },
  {
   "cell_type": "markdown",
   "metadata": {},
   "source": [
    "### Question 13\n",
    "\n",
    "Write a function that takes as input the adjacency matrix of your graph (or of the largest connected component of your graph) and a node and returns the clustering coefficient of that node. "
   ]
  },
  {
   "cell_type": "code",
   "execution_count": 46,
   "metadata": {},
   "outputs": [],
   "source": [
    "def compute_clustering_coefficient(adjacency, node):\n",
    "    \"\"\"Compute the clustering coefficient of a node.\n",
    "    \n",
    "    Parameters\n",
    "    ----------\n",
    "    adjacency: numpy array\n",
    "        The (weighted) adjacency matrix of a graph.\n",
    "    node: int\n",
    "        The node whose clustering coefficient will be computed. A number between 0 and n_nodes-1.\n",
    "    \n",
    "    Returns\n",
    "    -------\n",
    "    float\n",
    "        The clustering coefficient of the node. A number between 0 and 1.\n",
    "    \"\"\"\n",
    "    #Get the neighbors of the node\n",
    "    neighbors = np.where(adjacency[node] == 1)[0]\n",
    "    k_node = len(neighbors)\n",
    "    if k_node == 0 or k_node == 1:\n",
    "        return 0\n",
    "    \n",
    "    #Compute the number of links between the neighbors of the given node\n",
    "    L_node = 0\n",
    "    \n",
    "    \n",
    "    for k in neighbors:\n",
    "        links = np.where(adjacency[k])[0]\n",
    "        for l in links:\n",
    "            if l in neighbors:\n",
    "                #Add the link (divided by 2 so that we don't count twice)\n",
    "                L_node += 0.5\n",
    "    \n",
    "    #Compute the clustering coefficient with the formula\n",
    "    clustering_coefficient = (2.0 * L_node) / (k_node * (k_node - 1))\n",
    "    \n",
    "    return clustering_coefficient"
   ]
  },
  {
   "cell_type": "code",
   "execution_count": 47,
   "metadata": {},
   "outputs": [
    {
     "data": {
      "text/plain": [
       "1.0"
      ]
     },
     "execution_count": 47,
     "metadata": {},
     "output_type": "execute_result"
    }
   ],
   "source": [
    "compute_clustering_coefficient(adjacency, 0)"
   ]
  },
  {
   "cell_type": "markdown",
   "metadata": {},
   "source": [
    "### Question 14\n",
    "\n",
    "What is the average clustering coefficient of your graph (or of the largest connected component of your graph if your graph is disconnected)? Use the function ``compute_clustering_coefficient`` to determine your answer."
   ]
  },
  {
   "cell_type": "code",
   "execution_count": 48,
   "metadata": {},
   "outputs": [
    {
     "data": {
      "text/plain": [
       "0.4938050105068712"
      ]
     },
     "execution_count": 48,
     "metadata": {},
     "output_type": "execute_result"
    }
   ],
   "source": [
    "#Get the largest component\n",
    "largest_component = connected_components[np.argmax(len_components)]\n",
    "\n",
    "#Compute the average cluster coefficient\n",
    "clustering_coeffs = [compute_clustering_coefficient(largest_component, node) for node in range(len(largest_component))]\n",
    "np.mean(clustering_coeffs)"
   ]
  }
 ],
 "metadata": {
  "kernelspec": {
   "display_name": "Python 3",
   "language": "python",
   "name": "python3"
  },
  "language_info": {
   "codemirror_mode": {
    "name": "ipython",
    "version": 3
   },
   "file_extension": ".py",
   "mimetype": "text/x-python",
   "name": "python",
   "nbconvert_exporter": "python",
   "pygments_lexer": "ipython3",
   "version": "3.6.5"
  }
 },
 "nbformat": 4,
 "nbformat_minor": 2
}
