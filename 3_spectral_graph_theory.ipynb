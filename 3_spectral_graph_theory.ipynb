{
 "cells": [
  {
   "cell_type": "markdown",
   "metadata": {},
   "source": [
    "# [NTDS'18] milestone 3: spectral graph theory\n",
    "[ntds'18]: https://github.com/mdeff/ntds_2018\n",
    "\n",
    "[Michaël Defferrard](http://deff.ch), [EPFL LTS2](https://lts2.epfl.ch)"
   ]
  },
  {
   "cell_type": "markdown",
   "metadata": {},
   "source": [
    "## Students\n",
    "\n",
    "* Team: `12`\n",
    "* Students: `Arnaud Duvieusart, Omar Boujdaria, Franck Dessimoz and Adrien Vandenbroucque`\n",
    "* Dataset: `Flight Routes`"
   ]
  },
  {
   "cell_type": "markdown",
   "metadata": {},
   "source": [
    "## Rules\n",
    "\n",
    "* Milestones have to be completed by teams. No collaboration between teams is allowed.\n",
    "* Textual answers shall be short. Typically one to two sentences.\n",
    "* Code has to be clean.\n",
    "* You cannot import any other library than we imported.\n",
    "* When submitting, the notebook is executed and the results are stored. I.e., if you open the notebook again it should show numerical results and plots. We won't be able to execute your notebooks.\n",
    "* The notebook is re-executed from a blank state before submission. That is to be sure it is reproducible. You can click \"Kernel\" then \"Restart & Run All\" in Jupyter."
   ]
  },
  {
   "cell_type": "markdown",
   "metadata": {},
   "source": [
    "## Objective\n",
    "\n",
    "The goal of this milestone is to get familiar with the graph Laplacian and its spectral decomposition."
   ]
  },
  {
   "cell_type": "markdown",
   "metadata": {},
   "source": [
    "## 0 Load your network"
   ]
  },
  {
   "cell_type": "code",
   "execution_count": 42,
   "metadata": {},
   "outputs": [],
   "source": [
    "%matplotlib inline"
   ]
  },
  {
   "cell_type": "markdown",
   "metadata": {},
   "source": [
    "If you get a `No module named 'sklearn'` error when running the below cell, install [scikit-learn](https://scikit-learn.org) with `conda install scikit-learn` (after activating the `ntds_2018` environment)."
   ]
  },
  {
   "cell_type": "code",
   "execution_count": 43,
   "metadata": {},
   "outputs": [],
   "source": [
    "import numpy as np\n",
    "from scipy import sparse\n",
    "import scipy.sparse.linalg\n",
    "import matplotlib.pyplot as plt\n",
    "from sklearn.cluster import KMeans"
   ]
  },
  {
   "cell_type": "markdown",
   "metadata": {},
   "source": [
    "Let's denote your graph as $\\mathcal{G} = (\\mathcal{V}, \\mathcal{E}, A)$, where $\\mathcal{V}$ is the set of nodes, $\\mathcal{E}$ is the set of edges, $A \\in \\mathbb{R}^{N \\times N}$ is the (weighted) adjacency matrix, and $N = |\\mathcal{V}|$ is the number of nodes.\n",
    "\n",
    "Import the adjacency matrix $A$ that you constructed in the first milestone.\n",
    "(You're allowed to update it between milestones if you want to.)"
   ]
  },
  {
   "cell_type": "code",
   "execution_count": 44,
   "metadata": {},
   "outputs": [],
   "source": [
    "#Load the adjacency matrix from previous milestone\n",
    "adjacency =  np.load('adj.npy')\n",
    "n_nodes =  len(adjacency)"
   ]
  },
  {
   "cell_type": "markdown",
   "metadata": {},
   "source": [
    "***As advised in the Milestone session, we set the diagonal of our adjacency matrix to zero:***"
   ]
  },
  {
   "cell_type": "code",
   "execution_count": 45,
   "metadata": {},
   "outputs": [],
   "source": [
    "#Set the diagonal elements to 0\n",
    "np.fill_diagonal(adjacency, 0)"
   ]
  },
  {
   "cell_type": "markdown",
   "metadata": {},
   "source": [
    "## 1 Graph Laplacian"
   ]
  },
  {
   "cell_type": "markdown",
   "metadata": {},
   "source": [
    "### Question 1\n",
    "\n",
    "From the (weighted) adjacency matrix $A$, compute both the combinatorial (also called unnormalized) and the normalized graph Laplacian matrices.\n",
    "\n",
    "Note: if your graph is weighted, use the weighted adjacency matrix. If not, use the binary adjacency matrix.\n",
    "\n",
    "For efficient storage and computation, store these sparse matrices in a [compressed sparse row (CSR) format](https://en.wikipedia.org/wiki/Sparse_matrix#Compressed_sparse_row_.28CSR.2C_CRS_or_Yale_format.29)."
   ]
  },
  {
   "cell_type": "markdown",
   "metadata": {},
   "source": [
    "***As seen in the lectures, we compute the graph Laplacian as $L = D - A$, where $D$ is a diagonal matrix whose values are the degrees of the nodes, and $A$ is the adjacency matrix***\n",
    "\n",
    "***The normalized graph Laplacian is then computed as $L_{norm} = D^{-1/2}LD^{-1/2}$.***"
   ]
  },
  {
   "cell_type": "code",
   "execution_count": 12,
   "metadata": {},
   "outputs": [],
   "source": [
    "#Compute the matrix D of degrees\n",
    "D = np.diag(np.sum(adjacency, axis=0))\n",
    "\n",
    "#Compute the grah laplacian and store in CSR format\n",
    "laplacian_combinatorial =  sparse.csr_matrix(D - adjacency)\n",
    "\n",
    "#Compute the normalized graph laplacian and store in CSR format\n",
    "inverse_sqrt_D = scipy.linalg.inv(scipy.linalg.sqrtm(D))\n",
    "laplacian_normalized = sparse.csr_matrix(inverse_sqrt_D @ laplacian_combinatorial @ inverse_sqrt_D)"
   ]
  },
  {
   "cell_type": "markdown",
   "metadata": {},
   "source": [
    "Use one of them as the graph Laplacian $L$ for the rest of the milestone.\n",
    "We however encourage you to run the code with both to get a sense of the difference!"
   ]
  },
  {
   "cell_type": "code",
   "execution_count": 13,
   "metadata": {},
   "outputs": [],
   "source": [
    "laplacian = laplacian_combinatorial"
   ]
  },
  {
   "cell_type": "markdown",
   "metadata": {},
   "source": [
    "### Question 2\n",
    "\n",
    "Compute the eigendecomposition of the Laplacian $L = U^\\top \\Lambda U$, where the columns $u_k \\in \\mathbb{R}^N$ of $U = [u_1, \\dots, u_N] \\in \\mathbb{R}^{N \\times N}$ are the eigenvectors and the diagonal elements $\\lambda_k = \\Lambda_{kk}$ are the corresponding eigenvalues.\n",
    "\n",
    "Make sure that the eigenvalues are ordered, i.e., $0 = \\lambda_1 \\leq \\lambda_2 \\leq \\dots \\leq \\lambda_N$."
   ]
  },
  {
   "cell_type": "code",
   "execution_count": 14,
   "metadata": {},
   "outputs": [],
   "source": [
    "#Compute all the eigenvalues and eigenvectors using eigh()\n",
    "eigenvalues, eigenvectors =  scipy.linalg.eigh(laplacian_combinatorial.toarray())\n",
    "eigenvalues_norm, eigenvectors_norm =  scipy.linalg.eigh(laplacian_normalized.toarray())\n",
    "\n",
    "assert eigenvectors.shape == (n_nodes, n_nodes)\n",
    "assert eigenvectors_norm.shape == (n_nodes, n_nodes)"
   ]
  },
  {
   "cell_type": "markdown",
   "metadata": {},
   "source": [
    "Justify your choice of eigensolver."
   ]
  },
  {
   "cell_type": "markdown",
   "metadata": {},
   "source": [
    "***Since our adjacency matrix is symmetric, the Laplacian is also symmetric. Also, since we need to compute all the eigenvalues and eigen vectors, we used the `eigh()` function from `scipy.linalg`. Indeed, we couldn't use the one from the sparse module since it doesn't allow to compute all the eigenvalues and eigenvectors.***\n",
    "\n",
    "***We used the `eigh()` function instead of the `eig()` function since our graph Laplacian matrix is symmetric.***"
   ]
  },
  {
   "cell_type": "markdown",
   "metadata": {},
   "source": [
    "### Question 3\n",
    "\n",
    "We can write $L = S S^\\top$. What is the matrix $S$? What does $S^\\top x$, with $x \\in \\mathbb{R}^N$, compute?"
   ]
  },
  {
   "cell_type": "markdown",
   "metadata": {},
   "source": [
    "***$S$ is the incidence matrix, which is defined as follow :***\n",
    "$S(i,j) = \n",
    "     \\begin{cases}\n",
    "       1 &\\quad\\text{if } e_j = (v_i, v_k)\\text{ for some }k \\\\\n",
    "       -1 &\\quad\\text{if } e_j = (v_k, v_i)\\text{ for some }k \\\\\n",
    "       0 &\\quad\\text{otherwise}\\\\\n",
    "     \\end{cases}$\n"
   ]
  },
  {
   "cell_type": "markdown",
   "metadata": {},
   "source": [
    "***Thus $S^Tx$ compute the gradient of $x$, where $x$ is a vertex defined on $\\mathbb{R}^N$.***"
   ]
  },
  {
   "cell_type": "markdown",
   "metadata": {},
   "source": [
    "### Question 4\n",
    "\n",
    "Show that $\\lambda_k = \\| S^\\top u_k \\|_2^2$, where $\\| \\cdot \\|_2^2$ denotes the squared Euclidean norm (a.k.a. squared $L^2$ norm)."
   ]
  },
  {
   "cell_type": "markdown",
   "metadata": {},
   "source": [
    "**The incidence matrix $S$ satisfies $SS^T = L$.**\n",
    "\n",
    "***Hence the eigendecomposition of L gives us :\n",
    "$$\\begin{equation}\n",
    "\\begin{aligned}\n",
    "λ{k} &= u{k}^TLu_{k} \\\\\n",
    "&= u_{k}^TSS^Tu_{k} \\\\ \n",
    "&= (S^Tu_{k})^T(S^Tu_{k}) \\\\\n",
    "&= \\| S^T u_k \\|_2^2 \n",
    "\\end{aligned}\n",
    "\\end{equation}$$*\n",
    "\n",
    "**Where the third equality is optained since $(AB)^\\top = B^\\top A^\\top$**"
   ]
  },
  {
   "cell_type": "markdown",
   "metadata": {},
   "source": [
    "What does the quantity $\\| S^\\top x \\|_2^2$ tell us about $x$?"
   ]
  },
  {
   "cell_type": "markdown",
   "metadata": {},
   "source": [
    "***We have that $\\|S^Tx\\|_2^2 = (S^Tx)^T(S^Tx) = x^TSS^Tx = x^TLx$ measures the smoothness of the signal $x$. Indeed, it computes a value that can be interpreted as a gradient.***"
   ]
  },
  {
   "cell_type": "markdown",
   "metadata": {},
   "source": [
    "### Question 5\n",
    "\n",
    "What is the value of $u_0$, both for the combinatorial and normalized Laplacians?"
   ]
  },
  {
   "cell_type": "code",
   "execution_count": 59,
   "metadata": {},
   "outputs": [
    {
     "name": "stdout",
     "output_type": "stream",
     "text": [
      "[-1.54861877e-03  1.07862260e-02 -1.28369512e-02 ... -3.24205165e-07\n",
      "  2.82898440e-07 -2.68854032e-07]\n",
      "[-6.81272212e-06 -4.31190320e-03 -9.24294387e-03 ... -2.36178981e-47\n",
      "  4.92117247e-43 -4.17624926e-43]\n"
     ]
    }
   ],
   "source": [
    "print(eigenvectors[0])\n",
    "print(eigenvectors_norm[0])"
   ]
  },
  {
   "cell_type": "markdown",
   "metadata": {},
   "source": [
    "### Question 6\n",
    "\n",
    "Look at the spectrum of the Laplacian by plotting the eigenvalues.\n",
    "Comment on what you observe."
   ]
  },
  {
   "cell_type": "code",
   "execution_count": 15,
   "metadata": {},
   "outputs": [
    {
     "data": {
      "image/png": "[encoded data removed]",
      "text/plain": [
       "<Figure size 1440x720 with 2 Axes>"
      ]
     },
     "metadata": {
      "needs_background": "light"
     },
     "output_type": "display_data"
    }
   ],
   "source": [
    "#Create subplots\n",
    "f, (ax1, ax2) = plt.subplots(1, 2, figsize=(20, 10))\n",
    "\n",
    "#Plot the eigenvalues for the combinatorial laplacian\n",
    "ax1.scatter(x=list(range(len(eigenvalues))), y=eigenvalues, s=3)\n",
    "ax1.set_title('Eigenvalues for the combinatorial Laplacian')\n",
    "ax1.set_xlabel('Indice of the eigenvalue')\n",
    "ax1.set_ylabel('Actual value of the eigenvalue')\n",
    "\n",
    "#Plot the eigenvalues for the normalized laplacian\n",
    "ax2.scatter(x=list(range(len(eigenvalues_norm))), y=eigenvalues_norm, s=3)\n",
    "ax2.set_title('Eigenvalues for the normalized Laplacian')\n",
    "ax2.set_xlabel('Indice of the eigenvalue')\n",
    "ax2.set_ylabel('Actual value of the eigenvalue')\n",
    "\n",
    "plt.show()"
   ]
  },
  {
   "cell_type": "markdown",
   "metadata": {},
   "source": [
    "**Your answer here.**"
   ]
  },
  {
   "cell_type": "markdown",
   "metadata": {},
   "source": [
    "How many connected components are there in your graph? Answer using the eigenvalues only."
   ]
  },
  {
   "cell_type": "markdown",
   "metadata": {},
   "source": [
    "***As seen in the lectures, the information about the connectivity of the graph is found in the multiplicity of the first eigenvalue $\\lambda_0$, which is equal to $0$.***\n",
    "\n",
    "***Note that here, since the `eigh()` function returns an approximation of the eigenvalues, we actually don't have $0$ as smallest eigenvalue, but things like $2\\cdot 10^{-15}$, which actually represent $\\lambda_0$. So in order to retrieve the number of eigenvalues with value $0$, we put a threshold at $10^{-10}$, and all values below it are set to $0$.***\n",
    "\n",
    "***Now, we just need to count how many eigenvalues with value $0$ there are, and this will give us the number of connected components.***"
   ]
  },
  {
   "cell_type": "code",
   "execution_count": 16,
   "metadata": {},
   "outputs": [
    {
     "name": "stdout",
     "output_type": "stream",
     "text": [
      "Number of connected components:  7\n"
     ]
    }
   ],
   "source": [
    "#Set a threshold\n",
    "threshold = 1e-10\n",
    "\n",
    "#Map eigenvalues that are lower than threshold to 0\n",
    "eigenvalues = [0 if e < threshold else e for e in eigenvalues]\n",
    "\n",
    "#Compute lambda_0 = 0\n",
    "lambda_0 = np.min(eigenvalues)\n",
    "\n",
    "#Count how many are equal to lambda_0\n",
    "n_connected_components = np.count_nonzero(eigenvalues == lambda_0)\n",
    "\n",
    "print('Number of connected components: ', n_connected_components)"
   ]
  },
  {
   "cell_type": "markdown",
   "metadata": {},
   "source": [
    "***As we can see, the number of connected components that we find match the number we got in the Milestone 1.***"
   ]
  },
  {
   "cell_type": "markdown",
   "metadata": {},
   "source": [
    "Is there an upper bound on the eigenvalues, i.e., what is the largest possible eigenvalue? Answer for both the combinatorial and normalized Laplacians."
   ]
  },
  {
   "cell_type": "code",
   "execution_count": 17,
   "metadata": {},
   "outputs": [
    {
     "name": "stdout",
     "output_type": "stream",
     "text": [
      "Largest eigenvalue for the combinatorial Laplacian:  249.2168353102242\n",
      "Largest eigenvalue for the normalized Laplacian:  2.0000000000000013\n"
     ]
    }
   ],
   "source": [
    "lambda_max = np.max(eigenvalues)\n",
    "lambda_max_norm = np.max(eigenvalues_norm)\n",
    "print('Largest eigenvalue for the combinatorial Laplacian: ', lambda_max)\n",
    "print('Largest eigenvalue for the normalized Laplacian: ', lambda_max_norm)"
   ]
  },
  {
   "cell_type": "markdown",
   "metadata": {},
   "source": [
    "***For the combinatorial Laplacian, the largest eigenvalue seems to be bounded by $250$.***\n",
    "\n",
    "***For the normalized Laplacian, the largest eigenvalue is $2$, which follows from the theoretical bound derived in class.***"
   ]
  },
  {
   "cell_type": "markdown",
   "metadata": {},
   "source": [
    "## 3 Laplacian eigenmaps\n",
    "\n",
    "*Laplacian eigenmaps* is a method to embed a graph $\\mathcal{G}$ in a $d$-dimensional Euclidean space.\n",
    "That is, it associates a vector $z_i \\in \\mathbb{R}^d$ to every node $v_i \\in \\mathcal{V}$.\n",
    "The graph $\\mathcal{G}$ is thus embedded as $Z \\in \\mathbb{R}^{N \\times d}$."
   ]
  },
  {
   "cell_type": "markdown",
   "metadata": {},
   "source": [
    "***For this part, as advised by the TAs, we only keep the largest connected components for this part.***\n",
    "\n",
    "***So we simply reuse our code from Milestone 1 to get the largest connected component of our graph.***"
   ]
  },
  {
   "cell_type": "code",
   "execution_count": 46,
   "metadata": {},
   "outputs": [],
   "source": [
    "def dfs(graph, node, visited):\n",
    "    #mark current node as visited\n",
    "    if visited[node] == 0:\n",
    "        visited[node] = 1\n",
    "    \n",
    "    #find all possible links from current node and visit the unvisited nodes\n",
    "    for i,n in enumerate(graph[node]):\n",
    "        if n==1 and visited[i]==0:\n",
    "            dfs(graph,i, visited)\n",
    "    return visited\n",
    "\n",
    "def find_components(adjacency, start = 0):\n",
    "    \"\"\"Find the connected components of a graph.\n",
    "    \n",
    "    Parameters\n",
    "    ----------\n",
    "    adjacency: numpy array\n",
    "        The (weighted) adjacency matrix of a graph.\n",
    "    \n",
    "    Returns\n",
    "    -------\n",
    "    list of numpy arrays\n",
    "        A list of adjacency matrices, one per connected component.\n",
    "    \"\"\"\n",
    "    #base case of the recursion\n",
    "    if adjacency.shape == (0, 0):\n",
    "        return []\n",
    "    \n",
    "    components = []\n",
    "    \n",
    "    #initialize the \"visited\" array\n",
    "    visited = np.zeros(adjacency.shape[0])\n",
    "    \n",
    "    #find one of the CC\n",
    "    visited = dfs(adjacency,start,visited)\n",
    "    \n",
    "    #find unvisited nodes\n",
    "    visited = visited.astype(bool)\n",
    "    inv_visited = np.invert(visited)\n",
    "        \n",
    "    new = adjacency[:,visited][visited]\n",
    "    remaining = adjacency[:,inv_visited][inv_visited]\n",
    "    \n",
    "    #add the CC we found to the list of CCs\n",
    "    components.append(new)\n",
    "    \n",
    "    #recursion to find remaining CCs\n",
    "    return components + find_components(remaining)"
   ]
  },
  {
   "cell_type": "code",
   "execution_count": 47,
   "metadata": {},
   "outputs": [],
   "source": [
    "#Compute the largest connected component\n",
    "connected_components = find_components(adjacency)\n",
    "len_components = [len(c) for c in connected_components]\n",
    "\n",
    "adjacency = connected_components[np.argmax(len_components)]\n",
    "n_nodes = len(adjacency)"
   ]
  },
  {
   "cell_type": "markdown",
   "metadata": {},
   "source": [
    "***And so we recompute the Laplacian for this new graph:***"
   ]
  },
  {
   "cell_type": "code",
   "execution_count": 48,
   "metadata": {},
   "outputs": [],
   "source": [
    "#Compute the matrix D of degrees\n",
    "D = np.diag(np.sum(adjacency, axis=0))\n",
    "\n",
    "#Compute the grah laplacian and store in CSR format\n",
    "laplacian_combinatorial =  sparse.csr_matrix(D - adjacency)\n",
    "\n",
    "#Compute the normalized graph laplacian and store in CSR format\n",
    "inverse_sqrt_D = scipy.linalg.inv(scipy.linalg.sqrtm(D))\n",
    "laplacian_normalized = sparse.csr_matrix(inverse_sqrt_D @ laplacian_combinatorial @ inverse_sqrt_D)"
   ]
  },
  {
   "cell_type": "code",
   "execution_count": 49,
   "metadata": {},
   "outputs": [],
   "source": [
    "laplacian = laplacian_combinatorial"
   ]
  },
  {
   "cell_type": "markdown",
   "metadata": {},
   "source": [
    "### Question 7\n",
    "\n",
    "What do we use Laplacian eigenmaps for? (Or more generally, graph embeddings.)"
   ]
  },
  {
   "cell_type": "markdown",
   "metadata": {},
   "source": [
    "***Graph embeddings provide a mapping from a network to a vector space while preserving all important properties from the network. It maps high dimension data points to lower dimension points and preserves the similarities. This means that similar points are embedded close to each other.***\n",
    "\n",
    "***In general, we use graph embeddings in order to represent a graph in a vector space of a certain dimension.***"
   ]
  },
  {
   "cell_type": "markdown",
   "metadata": {},
   "source": [
    "### Question 8\n",
    "\n",
    "Embed your graph in $d=2$ dimensions with Laplacian eigenmaps.\n",
    "Try with and without re-normalizing the eigenvectors by the degrees, then keep the one your prefer.\n",
    "\n",
    "**Recompute** the eigenvectors you need with a partial eigendecomposition method for sparse matrices.\n",
    "When $k \\ll N$ eigenvectors are needed, partial eigendecompositions are much more efficient than complete eigendecompositions.\n",
    "A partial eigendecomposition scales as $\\Omega(k |\\mathcal{E}|$), while a complete eigendecomposition costs $\\mathcal{O}(N^3)$ operations."
   ]
  },
  {
   "cell_type": "markdown",
   "metadata": {},
   "source": [
    "***We create below a function that computes the embedding for our graph in a specified dimension. As required, we get the first $k$ eigenvectors using the sparse module in order to speed up the computations. We also return the Fiedler vector, since it will be useful for the clustering part.***\n",
    "\n",
    "***We also allow the user to specifiy whether he wants to normalize the eigenvectors by the degree. If yes, we simply compute: $U_{norm} = D^{-1/2}U$, where $U$ is a matrix containing the first $k$ eigenvectors.***"
   ]
  },
  {
   "cell_type": "code",
   "execution_count": 94,
   "metadata": {},
   "outputs": [],
   "source": [
    "def compute_embedding_fiedler(laplacian, dim, normalized_eig=False):\n",
    "    \"\"\"Given a graph laplacian and a target dimension, this function\n",
    "    computes a graph embedding in the chosen dimension. There is the\n",
    "    option to normalize the eigenvectors in the process.\"\"\"\n",
    "    \n",
    "    #Compute the k first eigenvectors (k depends on the target dimension)\n",
    "    k_eigenvalues, k_eigenvectors = scipy.sparse.linalg.eigsh(laplacian, k=1+dim, which='SA')\n",
    "\n",
    "    #Normalize the eigenvectors if needed\n",
    "    if normalized_eig:\n",
    "        k_eigenvectors = inverse_sqrt_D @ k_eigenvectors\n",
    "        \n",
    "    #Compute the fiedler vector\n",
    "    fiedler_vector = k_eigenvectors[:, 1]\n",
    "\n",
    "    #Compute the embedding for each node\n",
    "    embedding = np.zeros((n_nodes, dim))\n",
    "    for i in range(n_nodes):\n",
    "        for k_th in range(dim): \n",
    "            embedding[i, k_th] = k_eigenvectors[i, 1+k_th]\n",
    "            \n",
    "    return embedding, fiedler_vector"
   ]
  },
  {
   "cell_type": "markdown",
   "metadata": {},
   "source": [
    "***We now compute the 2D embedding of our graph:***"
   ]
  },
  {
   "cell_type": "code",
   "execution_count": 65,
   "metadata": {},
   "outputs": [
    {
     "name": "stdout",
     "output_type": "stream",
     "text": [
      "[3.50808075e-15 3.90903440e-02 5.54237524e-02]\n"
     ]
    }
   ],
   "source": [
    "embedding_2d, fiedler_vector = compute_embedding_fiedler(laplacian, 2, normalized_eig=False)"
   ]
  },
  {
   "cell_type": "markdown",
   "metadata": {},
   "source": [
    "Plot the nodes embedded in 2D. Comment on what you see."
   ]
  },
  {
   "cell_type": "code",
   "execution_count": 69,
   "metadata": {},
   "outputs": [
    {
     "data": {
      "image/png": "[encoded data removed]",
      "text/plain": [
       "<Figure size 1440x720 with 1 Axes>"
      ]
     },
     "metadata": {
      "needs_background": "light"
     },
     "output_type": "display_data"
    }
   ],
   "source": [
    "plt.figure(figsize=(20, 10))\n",
    "plt.scatter(embedding_2d[:, 0], embedding_2d[:, 1])\n",
    "plt.xlabel('Value of the eigenvalue $\\lambda_1$')\n",
    "plt.ylabel('Value of the eigenvalue $\\lambda_2$')\n",
    "plt.title('Plot of the 2D embedding of the graph using Laplacian eigenmaps')\n",
    "plt.show()"
   ]
  },
  {
   "cell_type": "markdown",
   "metadata": {},
   "source": [
    "**Your answer here.**"
   ]
  },
  {
   "cell_type": "markdown",
   "metadata": {},
   "source": [
    "### Question 9"
   ]
  },
  {
   "cell_type": "markdown",
   "metadata": {},
   "source": [
    "What does the embedding $Z \\in \\mathbb{R}^{N \\times d}$ preserve?"
   ]
  },
  {
   "cell_type": "markdown",
   "metadata": {},
   "source": [
    "***The embedding $Z$ will preserve the number of nodes, and their connectivity, as it is a smooth function over the original graph : connectivity between nodes is governed by the proximity of neighboring points. The points close to each other are mapped close to each other in the low-dimensional space, preserving local distances.***"
   ]
  },
  {
   "cell_type": "markdown",
   "metadata": {},
   "source": [
    "## 2 Spectral clustering\n",
    "\n",
    "*Spectral clustering* is a method to partition a graph into distinct clusters.\n",
    "The method associates a feature vector $z_i \\in \\mathbb{R}^d$ to every node $v_i \\in \\mathcal{V}$, then runs [$k$-means](https://en.wikipedia.org/wiki/K-means_clustering) in the embedding space $\\mathbb{R}^d$ to assign each node $v_i \\in \\mathcal{V}$ to a cluster $c_j \\in \\mathcal{C}$, where $k = |\\mathcal{C}|$ is the number of desired clusters."
   ]
  },
  {
   "cell_type": "markdown",
   "metadata": {},
   "source": [
    "### Question 10\n",
    "\n",
    "Choose $k$ and $d$. How did you get to those numbers?"
   ]
  },
  {
   "cell_type": "markdown",
   "metadata": {},
   "source": [
    "***As seen in class, we want to choose $k$, which is the number of clusters, such that the eigenvalues $\\lambda_{1}, ..., \\lambda_{k}$ are small but $\\lambda_{k+1}$ is larger, since if data has $k$ clear clusters, there will be a gap in the Laplacian spectrum bewteen $\\lambda_{k}$ and $\\lambda_{k+1}$. A way to find $k$ is to look a the multiplicity of the eigenvalue $0$. Finally once we have chosen $k$, we can take $d$ to be equal to the number of clusters $k$, as suggested by the spectral clustering algorithm seen during the lectures.***"
   ]
  },
  {
   "cell_type": "markdown",
   "metadata": {},
   "source": [
    "### Question 11\n",
    "\n",
    "1. Embed your graph in $\\mathbb{R}^d$ as $Z \\in \\mathbb{R}^{N \\times d}$.\n",
    "   Try with and without re-normalizing the eigenvectors by the degrees, then keep the one your prefer.\n",
    "1. If you want $k=2$ clusters, partition with the Fiedler vector. For $k > 2$ clusters, run $k$-means on $Z$. Don't implement $k$-means, use the `KMeans` class imported from scikit-learn."
   ]
  },
  {
   "cell_type": "markdown",
   "metadata": {},
   "source": [
    "***We first embed our graph in the dimsension we chose.***"
   ]
  },
  {
   "cell_type": "code",
   "execution_count": 99,
   "metadata": {},
   "outputs": [
    {
     "name": "stdout",
     "output_type": "stream",
     "text": [
      "[-1.92720871e-14  3.90903440e-02  5.54237524e-02]\n"
     ]
    }
   ],
   "source": [
    "nodes_embedded, fiedler_vector = compute_embedding_fiedler(laplacian, 2, normalized_eig=True)"
   ]
  },
  {
   "cell_type": "markdown",
   "metadata": {},
   "source": [
    "***Below, we define a function that will compute the cluster assignment of the nodes. If the nodes are in dimension 2 (and so we will compute 2 clusters), then we use the Fiedler vector to partition the nodes. Otherwise we use the `Kmeans()` function from ScikitLearn.***"
   ]
  },
  {
   "cell_type": "code",
   "execution_count": 87,
   "metadata": {},
   "outputs": [],
   "source": [
    "def compute_clustering(nodes, fiedler_vector):\n",
    "    \"\"\"Given embedded nodes and a fiedler vector,\n",
    "    computes a cluster assigment for the nodes\"\"\"\n",
    "    \n",
    "    #If embedded in 2D, use Fiedler vector\n",
    "    if nodes.shape[1] == 2:\n",
    "        predictions = np.sign(fiedler_vector)\n",
    "    else:#Use K-means\n",
    "        predictions = KMeans(n_clusters=nodes.shape[1], random_state=0).fit_predict(nodes)\n",
    "    return predictions"
   ]
  },
  {
   "cell_type": "code",
   "execution_count": 88,
   "metadata": {},
   "outputs": [],
   "source": [
    "cluster_assignment = compute_clustering(nodes_embedded, fiedler_vector)"
   ]
  },
  {
   "cell_type": "markdown",
   "metadata": {},
   "source": [
    "# Question 12\n",
    "\n",
    "Use the computed cluster assignment to reorder the adjacency matrix $A$.\n",
    "What do you expect? What do you observe?"
   ]
  },
  {
   "cell_type": "markdown",
   "metadata": {},
   "source": [
    "***Since kmeans returns a vectir of size N***"
   ]
  },
  {
   "cell_type": "code",
   "execution_count": 89,
   "metadata": {},
   "outputs": [],
   "source": [
    "#TODO"
   ]
  },
  {
   "cell_type": "markdown",
   "metadata": {},
   "source": [
    "**Your answer here.**"
   ]
  },
  {
   "cell_type": "markdown",
   "metadata": {},
   "source": [
    "### Question 13\n",
    "\n",
    "If you have ground truth clusters for your dataset, compare the cluster assignment from spectral clustering to the ground truth.\n",
    "A simple quantitative measure is to compute the percentage of nodes that have been correctly categorized.\n",
    "If you don't have a ground truth, qualitatively assess the quality of the clustering.\n",
    "\n",
    "Ground truth clusters are the \"real clusters\".\n",
    "For example, the genre of musical tracks in FMA, the category of Wikipedia articles, the spammer status of individuals, etc.\n",
    "Look for the `labels` in the [dataset descriptions](https://github.com/mdeff/ntds_2018/tree/master/projects/README.md)."
   ]
  },
  {
   "cell_type": "code",
   "execution_count": 90,
   "metadata": {},
   "outputs": [],
   "source": [
    "# Your code here."
   ]
  },
  {
   "cell_type": "markdown",
   "metadata": {},
   "source": [
    "### Question 14\n",
    "\n",
    "Plot the cluster assignment (one color per cluster) on the 2D embedding you computed above with Laplacian eigenmaps."
   ]
  },
  {
   "cell_type": "code",
   "execution_count": 100,
   "metadata": {},
   "outputs": [
    {
     "data": {
      "image/png": "[encoded data removed]",
      "text/plain": [
       "<Figure size 1440x720 with 1 Axes>"
      ]
     },
     "metadata": {
      "needs_background": "light"
     },
     "output_type": "display_data"
    }
   ],
   "source": [
    "plt.figure(figsize=(20, 10))\n",
    "plt.scatter(embedding_2d[:, 0], embedding_2d[:, 1], c=cluster_assignment, cmap='brg')\n",
    "plt.title(\"Cluster assignment on the 2D embedding\")\n",
    "plt.show()"
   ]
  },
  {
   "cell_type": "markdown",
   "metadata": {},
   "source": [
    "### Question 15\n",
    "\n",
    "Why did we use the eigenvectors of the graph Laplacian as features? Could we use other features for clustering?"
   ]
  },
  {
   "cell_type": "markdown",
   "metadata": {},
   "source": [
    "**Your answer here.**"
   ]
  }
 ],
 "metadata": {
  "kernelspec": {
   "display_name": "Python 3",
   "language": "python",
   "name": "python3"
  },
  "language_info": {
   "codemirror_mode": {
    "name": "ipython",
    "version": 3
   },
   "file_extension": ".py",
   "mimetype": "text/x-python",
   "name": "python",
   "nbconvert_exporter": "python",
   "pygments_lexer": "ipython3",
   "version": "3.6.6"
  }
 },
 "nbformat": 4,
 "nbformat_minor": 2
}
